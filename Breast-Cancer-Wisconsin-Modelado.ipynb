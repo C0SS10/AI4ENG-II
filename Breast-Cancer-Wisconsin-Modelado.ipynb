{
  "nbformat": 4,
  "nbformat_minor": 0,
  "metadata": {
    "colab": {
      "provenance": [],
      "include_colab_link": true
    },
    "kernelspec": {
      "name": "python3",
      "display_name": "Python 3"
    },
    "language_info": {
      "name": "python"
    },
    "widgets": {
      "application/vnd.jupyter.widget-state+json": {
        "f01fd88ab0c5444095d2d4aa7320551d": {
          "model_module": "@jupyter-widgets/controls",
          "model_name": "HBoxModel",
          "model_module_version": "1.5.0",
          "state": {
            "_dom_classes": [],
            "_model_module": "@jupyter-widgets/controls",
            "_model_module_version": "1.5.0",
            "_model_name": "HBoxModel",
            "_view_count": null,
            "_view_module": "@jupyter-widgets/controls",
            "_view_module_version": "1.5.0",
            "_view_name": "HBoxView",
            "box_style": "",
            "children": [
              "IPY_MODEL_085d484ce1ab4d4babff661db74db390",
              "IPY_MODEL_c3afae1dc9e84ba9b563cafde60f7331",
              "IPY_MODEL_0abeead4d9f24fb59a34aa4eeefc2d69"
            ],
            "layout": "IPY_MODEL_5d9caf90ffd74ecfb6399f81524239bc"
          }
        },
        "085d484ce1ab4d4babff661db74db390": {
          "model_module": "@jupyter-widgets/controls",
          "model_name": "HTMLModel",
          "model_module_version": "1.5.0",
          "state": {
            "_dom_classes": [],
            "_model_module": "@jupyter-widgets/controls",
            "_model_module_version": "1.5.0",
            "_model_name": "HTMLModel",
            "_view_count": null,
            "_view_module": "@jupyter-widgets/controls",
            "_view_module_version": "1.5.0",
            "_view_name": "HTMLView",
            "description": "",
            "description_tooltip": null,
            "layout": "IPY_MODEL_48b02dcf17c24ce5835b76b3b53a4c14",
            "placeholder": "​",
            "style": "IPY_MODEL_3979e1a3af284be2beeb5bd48c0f23e2",
            "value": "Processing: 100%"
          }
        },
        "c3afae1dc9e84ba9b563cafde60f7331": {
          "model_module": "@jupyter-widgets/controls",
          "model_name": "FloatProgressModel",
          "model_module_version": "1.5.0",
          "state": {
            "_dom_classes": [],
            "_model_module": "@jupyter-widgets/controls",
            "_model_module_version": "1.5.0",
            "_model_name": "FloatProgressModel",
            "_view_count": null,
            "_view_module": "@jupyter-widgets/controls",
            "_view_module_version": "1.5.0",
            "_view_name": "ProgressView",
            "bar_style": "",
            "description": "",
            "description_tooltip": null,
            "layout": "IPY_MODEL_df9d8964f24a4f3b9d65eb78d2104195",
            "max": 65,
            "min": 0,
            "orientation": "horizontal",
            "style": "IPY_MODEL_e5d50c5ec54d4b63b0d41fc2989f7adb",
            "value": 65
          }
        },
        "0abeead4d9f24fb59a34aa4eeefc2d69": {
          "model_module": "@jupyter-widgets/controls",
          "model_name": "HTMLModel",
          "model_module_version": "1.5.0",
          "state": {
            "_dom_classes": [],
            "_model_module": "@jupyter-widgets/controls",
            "_model_module_version": "1.5.0",
            "_model_name": "HTMLModel",
            "_view_count": null,
            "_view_module": "@jupyter-widgets/controls",
            "_view_module_version": "1.5.0",
            "_view_name": "HTMLView",
            "description": "",
            "description_tooltip": null,
            "layout": "IPY_MODEL_dc147c8b05b04d0eb9d931c81e8f27da",
            "placeholder": "​",
            "style": "IPY_MODEL_861ef86a1ecd4887bfacb61fdf223fd7",
            "value": " 65/65 [00:38&lt;00:00,  1.48it/s]"
          }
        },
        "5d9caf90ffd74ecfb6399f81524239bc": {
          "model_module": "@jupyter-widgets/base",
          "model_name": "LayoutModel",
          "model_module_version": "1.2.0",
          "state": {
            "_model_module": "@jupyter-widgets/base",
            "_model_module_version": "1.2.0",
            "_model_name": "LayoutModel",
            "_view_count": null,
            "_view_module": "@jupyter-widgets/base",
            "_view_module_version": "1.2.0",
            "_view_name": "LayoutView",
            "align_content": null,
            "align_items": null,
            "align_self": null,
            "border": null,
            "bottom": null,
            "display": null,
            "flex": null,
            "flex_flow": null,
            "grid_area": null,
            "grid_auto_columns": null,
            "grid_auto_flow": null,
            "grid_auto_rows": null,
            "grid_column": null,
            "grid_gap": null,
            "grid_row": null,
            "grid_template_areas": null,
            "grid_template_columns": null,
            "grid_template_rows": null,
            "height": null,
            "justify_content": null,
            "justify_items": null,
            "left": null,
            "margin": null,
            "max_height": null,
            "max_width": null,
            "min_height": null,
            "min_width": null,
            "object_fit": null,
            "object_position": null,
            "order": null,
            "overflow": null,
            "overflow_x": null,
            "overflow_y": null,
            "padding": null,
            "right": null,
            "top": null,
            "visibility": "hidden",
            "width": null
          }
        },
        "48b02dcf17c24ce5835b76b3b53a4c14": {
          "model_module": "@jupyter-widgets/base",
          "model_name": "LayoutModel",
          "model_module_version": "1.2.0",
          "state": {
            "_model_module": "@jupyter-widgets/base",
            "_model_module_version": "1.2.0",
            "_model_name": "LayoutModel",
            "_view_count": null,
            "_view_module": "@jupyter-widgets/base",
            "_view_module_version": "1.2.0",
            "_view_name": "LayoutView",
            "align_content": null,
            "align_items": null,
            "align_self": null,
            "border": null,
            "bottom": null,
            "display": null,
            "flex": null,
            "flex_flow": null,
            "grid_area": null,
            "grid_auto_columns": null,
            "grid_auto_flow": null,
            "grid_auto_rows": null,
            "grid_column": null,
            "grid_gap": null,
            "grid_row": null,
            "grid_template_areas": null,
            "grid_template_columns": null,
            "grid_template_rows": null,
            "height": null,
            "justify_content": null,
            "justify_items": null,
            "left": null,
            "margin": null,
            "max_height": null,
            "max_width": null,
            "min_height": null,
            "min_width": null,
            "object_fit": null,
            "object_position": null,
            "order": null,
            "overflow": null,
            "overflow_x": null,
            "overflow_y": null,
            "padding": null,
            "right": null,
            "top": null,
            "visibility": null,
            "width": null
          }
        },
        "3979e1a3af284be2beeb5bd48c0f23e2": {
          "model_module": "@jupyter-widgets/controls",
          "model_name": "DescriptionStyleModel",
          "model_module_version": "1.5.0",
          "state": {
            "_model_module": "@jupyter-widgets/controls",
            "_model_module_version": "1.5.0",
            "_model_name": "DescriptionStyleModel",
            "_view_count": null,
            "_view_module": "@jupyter-widgets/base",
            "_view_module_version": "1.2.0",
            "_view_name": "StyleView",
            "description_width": ""
          }
        },
        "df9d8964f24a4f3b9d65eb78d2104195": {
          "model_module": "@jupyter-widgets/base",
          "model_name": "LayoutModel",
          "model_module_version": "1.2.0",
          "state": {
            "_model_module": "@jupyter-widgets/base",
            "_model_module_version": "1.2.0",
            "_model_name": "LayoutModel",
            "_view_count": null,
            "_view_module": "@jupyter-widgets/base",
            "_view_module_version": "1.2.0",
            "_view_name": "LayoutView",
            "align_content": null,
            "align_items": null,
            "align_self": null,
            "border": null,
            "bottom": null,
            "display": null,
            "flex": null,
            "flex_flow": null,
            "grid_area": null,
            "grid_auto_columns": null,
            "grid_auto_flow": null,
            "grid_auto_rows": null,
            "grid_column": null,
            "grid_gap": null,
            "grid_row": null,
            "grid_template_areas": null,
            "grid_template_columns": null,
            "grid_template_rows": null,
            "height": null,
            "justify_content": null,
            "justify_items": null,
            "left": null,
            "margin": null,
            "max_height": null,
            "max_width": null,
            "min_height": null,
            "min_width": null,
            "object_fit": null,
            "object_position": null,
            "order": null,
            "overflow": null,
            "overflow_x": null,
            "overflow_y": null,
            "padding": null,
            "right": null,
            "top": null,
            "visibility": null,
            "width": null
          }
        },
        "e5d50c5ec54d4b63b0d41fc2989f7adb": {
          "model_module": "@jupyter-widgets/controls",
          "model_name": "ProgressStyleModel",
          "model_module_version": "1.5.0",
          "state": {
            "_model_module": "@jupyter-widgets/controls",
            "_model_module_version": "1.5.0",
            "_model_name": "ProgressStyleModel",
            "_view_count": null,
            "_view_module": "@jupyter-widgets/base",
            "_view_module_version": "1.2.0",
            "_view_name": "StyleView",
            "bar_color": null,
            "description_width": ""
          }
        },
        "dc147c8b05b04d0eb9d931c81e8f27da": {
          "model_module": "@jupyter-widgets/base",
          "model_name": "LayoutModel",
          "model_module_version": "1.2.0",
          "state": {
            "_model_module": "@jupyter-widgets/base",
            "_model_module_version": "1.2.0",
            "_model_name": "LayoutModel",
            "_view_count": null,
            "_view_module": "@jupyter-widgets/base",
            "_view_module_version": "1.2.0",
            "_view_name": "LayoutView",
            "align_content": null,
            "align_items": null,
            "align_self": null,
            "border": null,
            "bottom": null,
            "display": null,
            "flex": null,
            "flex_flow": null,
            "grid_area": null,
            "grid_auto_columns": null,
            "grid_auto_flow": null,
            "grid_auto_rows": null,
            "grid_column": null,
            "grid_gap": null,
            "grid_row": null,
            "grid_template_areas": null,
            "grid_template_columns": null,
            "grid_template_rows": null,
            "height": null,
            "justify_content": null,
            "justify_items": null,
            "left": null,
            "margin": null,
            "max_height": null,
            "max_width": null,
            "min_height": null,
            "min_width": null,
            "object_fit": null,
            "object_position": null,
            "order": null,
            "overflow": null,
            "overflow_x": null,
            "overflow_y": null,
            "padding": null,
            "right": null,
            "top": null,
            "visibility": null,
            "width": null
          }
        },
        "861ef86a1ecd4887bfacb61fdf223fd7": {
          "model_module": "@jupyter-widgets/controls",
          "model_name": "DescriptionStyleModel",
          "model_module_version": "1.5.0",
          "state": {
            "_model_module": "@jupyter-widgets/controls",
            "_model_module_version": "1.5.0",
            "_model_name": "DescriptionStyleModel",
            "_view_count": null,
            "_view_module": "@jupyter-widgets/base",
            "_view_module_version": "1.2.0",
            "_view_name": "StyleView",
            "description_width": ""
          }
        },
        "ace64d30c4cc4489a9cdc44a0ec1ff91": {
          "model_module": "@jupyter-widgets/controls",
          "model_name": "HBoxModel",
          "model_module_version": "1.5.0",
          "state": {
            "_dom_classes": [],
            "_model_module": "@jupyter-widgets/controls",
            "_model_module_version": "1.5.0",
            "_model_name": "HBoxModel",
            "_view_count": null,
            "_view_module": "@jupyter-widgets/controls",
            "_view_module_version": "1.5.0",
            "_view_name": "HBoxView",
            "box_style": "",
            "children": [
              "IPY_MODEL_ea24bc5cb28540bc8c5c1ba8402d15f0",
              "IPY_MODEL_054d89859da74599980eaf73210d18ca",
              "IPY_MODEL_10719532864b46e79ab6bfe10ba13c7a"
            ],
            "layout": "IPY_MODEL_aa213393ed8d42a5871fe0005faf6f60"
          }
        },
        "ea24bc5cb28540bc8c5c1ba8402d15f0": {
          "model_module": "@jupyter-widgets/controls",
          "model_name": "HTMLModel",
          "model_module_version": "1.5.0",
          "state": {
            "_dom_classes": [],
            "_model_module": "@jupyter-widgets/controls",
            "_model_module_version": "1.5.0",
            "_model_name": "HTMLModel",
            "_view_count": null,
            "_view_module": "@jupyter-widgets/controls",
            "_view_module_version": "1.5.0",
            "_view_name": "HTMLView",
            "description": "",
            "description_tooltip": null,
            "layout": "IPY_MODEL_d182c4b2fbfd4a3789124487af36f8bc",
            "placeholder": "​",
            "style": "IPY_MODEL_d0b7c6135bbd47eba1e7f104b0098715",
            "value": "Processing: 100%"
          }
        },
        "054d89859da74599980eaf73210d18ca": {
          "model_module": "@jupyter-widgets/controls",
          "model_name": "FloatProgressModel",
          "model_module_version": "1.5.0",
          "state": {
            "_dom_classes": [],
            "_model_module": "@jupyter-widgets/controls",
            "_model_module_version": "1.5.0",
            "_model_name": "FloatProgressModel",
            "_view_count": null,
            "_view_module": "@jupyter-widgets/controls",
            "_view_module_version": "1.5.0",
            "_view_name": "ProgressView",
            "bar_style": "",
            "description": "",
            "description_tooltip": null,
            "layout": "IPY_MODEL_bef1fb8de9be410a880a61d177f15d32",
            "max": 7,
            "min": 0,
            "orientation": "horizontal",
            "style": "IPY_MODEL_81af073977fe455690fae34c842af66c",
            "value": 7
          }
        },
        "10719532864b46e79ab6bfe10ba13c7a": {
          "model_module": "@jupyter-widgets/controls",
          "model_name": "HTMLModel",
          "model_module_version": "1.5.0",
          "state": {
            "_dom_classes": [],
            "_model_module": "@jupyter-widgets/controls",
            "_model_module_version": "1.5.0",
            "_model_name": "HTMLModel",
            "_view_count": null,
            "_view_module": "@jupyter-widgets/controls",
            "_view_module_version": "1.5.0",
            "_view_name": "HTMLView",
            "description": "",
            "description_tooltip": null,
            "layout": "IPY_MODEL_addab88f354042c684d22a81a405a1a7",
            "placeholder": "​",
            "style": "IPY_MODEL_e140a2962481424f87c477f824246ed0",
            "value": " 7/7 [01:10&lt;00:00,  7.96s/it]"
          }
        },
        "aa213393ed8d42a5871fe0005faf6f60": {
          "model_module": "@jupyter-widgets/base",
          "model_name": "LayoutModel",
          "model_module_version": "1.2.0",
          "state": {
            "_model_module": "@jupyter-widgets/base",
            "_model_module_version": "1.2.0",
            "_model_name": "LayoutModel",
            "_view_count": null,
            "_view_module": "@jupyter-widgets/base",
            "_view_module_version": "1.2.0",
            "_view_name": "LayoutView",
            "align_content": null,
            "align_items": null,
            "align_self": null,
            "border": null,
            "bottom": null,
            "display": null,
            "flex": null,
            "flex_flow": null,
            "grid_area": null,
            "grid_auto_columns": null,
            "grid_auto_flow": null,
            "grid_auto_rows": null,
            "grid_column": null,
            "grid_gap": null,
            "grid_row": null,
            "grid_template_areas": null,
            "grid_template_columns": null,
            "grid_template_rows": null,
            "height": null,
            "justify_content": null,
            "justify_items": null,
            "left": null,
            "margin": null,
            "max_height": null,
            "max_width": null,
            "min_height": null,
            "min_width": null,
            "object_fit": null,
            "object_position": null,
            "order": null,
            "overflow": null,
            "overflow_x": null,
            "overflow_y": null,
            "padding": null,
            "right": null,
            "top": null,
            "visibility": "hidden",
            "width": null
          }
        },
        "d182c4b2fbfd4a3789124487af36f8bc": {
          "model_module": "@jupyter-widgets/base",
          "model_name": "LayoutModel",
          "model_module_version": "1.2.0",
          "state": {
            "_model_module": "@jupyter-widgets/base",
            "_model_module_version": "1.2.0",
            "_model_name": "LayoutModel",
            "_view_count": null,
            "_view_module": "@jupyter-widgets/base",
            "_view_module_version": "1.2.0",
            "_view_name": "LayoutView",
            "align_content": null,
            "align_items": null,
            "align_self": null,
            "border": null,
            "bottom": null,
            "display": null,
            "flex": null,
            "flex_flow": null,
            "grid_area": null,
            "grid_auto_columns": null,
            "grid_auto_flow": null,
            "grid_auto_rows": null,
            "grid_column": null,
            "grid_gap": null,
            "grid_row": null,
            "grid_template_areas": null,
            "grid_template_columns": null,
            "grid_template_rows": null,
            "height": null,
            "justify_content": null,
            "justify_items": null,
            "left": null,
            "margin": null,
            "max_height": null,
            "max_width": null,
            "min_height": null,
            "min_width": null,
            "object_fit": null,
            "object_position": null,
            "order": null,
            "overflow": null,
            "overflow_x": null,
            "overflow_y": null,
            "padding": null,
            "right": null,
            "top": null,
            "visibility": null,
            "width": null
          }
        },
        "d0b7c6135bbd47eba1e7f104b0098715": {
          "model_module": "@jupyter-widgets/controls",
          "model_name": "DescriptionStyleModel",
          "model_module_version": "1.5.0",
          "state": {
            "_model_module": "@jupyter-widgets/controls",
            "_model_module_version": "1.5.0",
            "_model_name": "DescriptionStyleModel",
            "_view_count": null,
            "_view_module": "@jupyter-widgets/base",
            "_view_module_version": "1.2.0",
            "_view_name": "StyleView",
            "description_width": ""
          }
        },
        "bef1fb8de9be410a880a61d177f15d32": {
          "model_module": "@jupyter-widgets/base",
          "model_name": "LayoutModel",
          "model_module_version": "1.2.0",
          "state": {
            "_model_module": "@jupyter-widgets/base",
            "_model_module_version": "1.2.0",
            "_model_name": "LayoutModel",
            "_view_count": null,
            "_view_module": "@jupyter-widgets/base",
            "_view_module_version": "1.2.0",
            "_view_name": "LayoutView",
            "align_content": null,
            "align_items": null,
            "align_self": null,
            "border": null,
            "bottom": null,
            "display": null,
            "flex": null,
            "flex_flow": null,
            "grid_area": null,
            "grid_auto_columns": null,
            "grid_auto_flow": null,
            "grid_auto_rows": null,
            "grid_column": null,
            "grid_gap": null,
            "grid_row": null,
            "grid_template_areas": null,
            "grid_template_columns": null,
            "grid_template_rows": null,
            "height": null,
            "justify_content": null,
            "justify_items": null,
            "left": null,
            "margin": null,
            "max_height": null,
            "max_width": null,
            "min_height": null,
            "min_width": null,
            "object_fit": null,
            "object_position": null,
            "order": null,
            "overflow": null,
            "overflow_x": null,
            "overflow_y": null,
            "padding": null,
            "right": null,
            "top": null,
            "visibility": null,
            "width": null
          }
        },
        "81af073977fe455690fae34c842af66c": {
          "model_module": "@jupyter-widgets/controls",
          "model_name": "ProgressStyleModel",
          "model_module_version": "1.5.0",
          "state": {
            "_model_module": "@jupyter-widgets/controls",
            "_model_module_version": "1.5.0",
            "_model_name": "ProgressStyleModel",
            "_view_count": null,
            "_view_module": "@jupyter-widgets/base",
            "_view_module_version": "1.2.0",
            "_view_name": "StyleView",
            "bar_color": null,
            "description_width": ""
          }
        },
        "addab88f354042c684d22a81a405a1a7": {
          "model_module": "@jupyter-widgets/base",
          "model_name": "LayoutModel",
          "model_module_version": "1.2.0",
          "state": {
            "_model_module": "@jupyter-widgets/base",
            "_model_module_version": "1.2.0",
            "_model_name": "LayoutModel",
            "_view_count": null,
            "_view_module": "@jupyter-widgets/base",
            "_view_module_version": "1.2.0",
            "_view_name": "LayoutView",
            "align_content": null,
            "align_items": null,
            "align_self": null,
            "border": null,
            "bottom": null,
            "display": null,
            "flex": null,
            "flex_flow": null,
            "grid_area": null,
            "grid_auto_columns": null,
            "grid_auto_flow": null,
            "grid_auto_rows": null,
            "grid_column": null,
            "grid_gap": null,
            "grid_row": null,
            "grid_template_areas": null,
            "grid_template_columns": null,
            "grid_template_rows": null,
            "height": null,
            "justify_content": null,
            "justify_items": null,
            "left": null,
            "margin": null,
            "max_height": null,
            "max_width": null,
            "min_height": null,
            "min_width": null,
            "object_fit": null,
            "object_position": null,
            "order": null,
            "overflow": null,
            "overflow_x": null,
            "overflow_y": null,
            "padding": null,
            "right": null,
            "top": null,
            "visibility": null,
            "width": null
          }
        },
        "e140a2962481424f87c477f824246ed0": {
          "model_module": "@jupyter-widgets/controls",
          "model_name": "DescriptionStyleModel",
          "model_module_version": "1.5.0",
          "state": {
            "_model_module": "@jupyter-widgets/controls",
            "_model_module_version": "1.5.0",
            "_model_name": "DescriptionStyleModel",
            "_view_count": null,
            "_view_module": "@jupyter-widgets/base",
            "_view_module_version": "1.2.0",
            "_view_name": "StyleView",
            "description_width": ""
          }
        },
        "1c97acd8c9df4935bacf54150d537a2e": {
          "model_module": "@jupyter-widgets/controls",
          "model_name": "VBoxModel",
          "model_module_version": "1.5.0",
          "state": {
            "_dom_classes": [
              "widget-interact"
            ],
            "_model_module": "@jupyter-widgets/controls",
            "_model_module_version": "1.5.0",
            "_model_name": "VBoxModel",
            "_view_count": null,
            "_view_module": "@jupyter-widgets/controls",
            "_view_module_version": "1.5.0",
            "_view_name": "VBoxView",
            "box_style": "",
            "children": [
              "IPY_MODEL_11b4a9ae73214cb49df40ea7d69d8383",
              "IPY_MODEL_b9d9b95e866144db9267c08252a7b2c3"
            ],
            "layout": "IPY_MODEL_cd5e9f193c6945348cd4edcd81ca8391"
          }
        },
        "11b4a9ae73214cb49df40ea7d69d8383": {
          "model_module": "@jupyter-widgets/controls",
          "model_name": "ToggleButtonsModel",
          "model_module_version": "1.5.0",
          "state": {
            "_dom_classes": [],
            "_model_module": "@jupyter-widgets/controls",
            "_model_module_version": "1.5.0",
            "_model_name": "ToggleButtonsModel",
            "_options_labels": [
              "Pipeline Plot",
              "Hyperparameters",
              "AUC",
              "Confusion Matrix",
              "Threshold",
              "Precision Recall",
              "Prediction Error",
              "Class Report",
              "Feature Selection",
              "Learning Curve",
              "Manifold Learning",
              "Calibration Curve",
              "Validation Curve",
              "Dimensions",
              "Feature Importance",
              "Feature Importance (All)",
              "Decision Boundary",
              "Lift Chart",
              "Gain Chart",
              "Decision Tree",
              "KS Statistic Plot"
            ],
            "_view_count": null,
            "_view_module": "@jupyter-widgets/controls",
            "_view_module_version": "1.5.0",
            "_view_name": "ToggleButtonsView",
            "button_style": "",
            "description": "Plot Type:",
            "description_tooltip": null,
            "disabled": false,
            "icons": [
              ""
            ],
            "index": 0,
            "layout": "IPY_MODEL_2aa7144b50034c3cbe2b38ba4993b828",
            "style": "IPY_MODEL_50aac73bde494866aff46e447f8cfd22",
            "tooltips": []
          }
        },
        "b9d9b95e866144db9267c08252a7b2c3": {
          "model_module": "@jupyter-widgets/output",
          "model_name": "OutputModel",
          "model_module_version": "1.0.0",
          "state": {
            "_dom_classes": [],
            "_model_module": "@jupyter-widgets/output",
            "_model_module_version": "1.0.0",
            "_model_name": "OutputModel",
            "_view_count": null,
            "_view_module": "@jupyter-widgets/output",
            "_view_module_version": "1.0.0",
            "_view_name": "OutputView",
            "layout": "IPY_MODEL_ff0d214fc2be4a5f8f71e799ae76d6e1",
            "msg_id": "",
            "outputs": [
              {
                "output_type": "display_data",
                "data": {
                  "text/plain": "<Figure size 1200x600 with 1 Axes>",
                  "image/png": "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\n"
                },
                "metadata": {}
              }
            ]
          }
        },
        "cd5e9f193c6945348cd4edcd81ca8391": {
          "model_module": "@jupyter-widgets/base",
          "model_name": "LayoutModel",
          "model_module_version": "1.2.0",
          "state": {
            "_model_module": "@jupyter-widgets/base",
            "_model_module_version": "1.2.0",
            "_model_name": "LayoutModel",
            "_view_count": null,
            "_view_module": "@jupyter-widgets/base",
            "_view_module_version": "1.2.0",
            "_view_name": "LayoutView",
            "align_content": null,
            "align_items": null,
            "align_self": null,
            "border": null,
            "bottom": null,
            "display": null,
            "flex": null,
            "flex_flow": null,
            "grid_area": null,
            "grid_auto_columns": null,
            "grid_auto_flow": null,
            "grid_auto_rows": null,
            "grid_column": null,
            "grid_gap": null,
            "grid_row": null,
            "grid_template_areas": null,
            "grid_template_columns": null,
            "grid_template_rows": null,
            "height": null,
            "justify_content": null,
            "justify_items": null,
            "left": null,
            "margin": null,
            "max_height": null,
            "max_width": null,
            "min_height": null,
            "min_width": null,
            "object_fit": null,
            "object_position": null,
            "order": null,
            "overflow": null,
            "overflow_x": null,
            "overflow_y": null,
            "padding": null,
            "right": null,
            "top": null,
            "visibility": null,
            "width": null
          }
        },
        "2aa7144b50034c3cbe2b38ba4993b828": {
          "model_module": "@jupyter-widgets/base",
          "model_name": "LayoutModel",
          "model_module_version": "1.2.0",
          "state": {
            "_model_module": "@jupyter-widgets/base",
            "_model_module_version": "1.2.0",
            "_model_name": "LayoutModel",
            "_view_count": null,
            "_view_module": "@jupyter-widgets/base",
            "_view_module_version": "1.2.0",
            "_view_name": "LayoutView",
            "align_content": null,
            "align_items": null,
            "align_self": null,
            "border": null,
            "bottom": null,
            "display": null,
            "flex": null,
            "flex_flow": null,
            "grid_area": null,
            "grid_auto_columns": null,
            "grid_auto_flow": null,
            "grid_auto_rows": null,
            "grid_column": null,
            "grid_gap": null,
            "grid_row": null,
            "grid_template_areas": null,
            "grid_template_columns": null,
            "grid_template_rows": null,
            "height": null,
            "justify_content": null,
            "justify_items": null,
            "left": null,
            "margin": null,
            "max_height": null,
            "max_width": null,
            "min_height": null,
            "min_width": null,
            "object_fit": null,
            "object_position": null,
            "order": null,
            "overflow": null,
            "overflow_x": null,
            "overflow_y": null,
            "padding": null,
            "right": null,
            "top": null,
            "visibility": null,
            "width": null
          }
        },
        "50aac73bde494866aff46e447f8cfd22": {
          "model_module": "@jupyter-widgets/controls",
          "model_name": "ToggleButtonsStyleModel",
          "model_module_version": "1.5.0",
          "state": {
            "_model_module": "@jupyter-widgets/controls",
            "_model_module_version": "1.5.0",
            "_model_name": "ToggleButtonsStyleModel",
            "_view_count": null,
            "_view_module": "@jupyter-widgets/base",
            "_view_module_version": "1.2.0",
            "_view_name": "StyleView",
            "button_width": "",
            "description_width": "",
            "font_weight": ""
          }
        },
        "ff0d214fc2be4a5f8f71e799ae76d6e1": {
          "model_module": "@jupyter-widgets/base",
          "model_name": "LayoutModel",
          "model_module_version": "1.2.0",
          "state": {
            "_model_module": "@jupyter-widgets/base",
            "_model_module_version": "1.2.0",
            "_model_name": "LayoutModel",
            "_view_count": null,
            "_view_module": "@jupyter-widgets/base",
            "_view_module_version": "1.2.0",
            "_view_name": "LayoutView",
            "align_content": null,
            "align_items": null,
            "align_self": null,
            "border": null,
            "bottom": null,
            "display": null,
            "flex": null,
            "flex_flow": null,
            "grid_area": null,
            "grid_auto_columns": null,
            "grid_auto_flow": null,
            "grid_auto_rows": null,
            "grid_column": null,
            "grid_gap": null,
            "grid_row": null,
            "grid_template_areas": null,
            "grid_template_columns": null,
            "grid_template_rows": null,
            "height": null,
            "justify_content": null,
            "justify_items": null,
            "left": null,
            "margin": null,
            "max_height": null,
            "max_width": null,
            "min_height": null,
            "min_width": null,
            "object_fit": null,
            "object_position": null,
            "order": null,
            "overflow": null,
            "overflow_x": null,
            "overflow_y": null,
            "padding": null,
            "right": null,
            "top": null,
            "visibility": null,
            "width": null
          }
        }
      }
    }
  },
  "cells": [
    {
      "cell_type": "markdown",
      "metadata": {
        "id": "view-in-github",
        "colab_type": "text"
      },
      "source": [
        "<a href=\"https://colab.research.google.com/github/C0SS10/AI4ENG-II/blob/main/Breast-Cancer-Wisconsin-Modelado.ipynb\" target=\"_parent\"><img src=\"https://colab.research.google.com/assets/colab-badge.svg\" alt=\"Open In Colab\"/></a>"
      ]
    },
    {
      "cell_type": "markdown",
      "source": [
        "## **📦 Módulos, archivos, paquetes importantes para la ejecución del notebook.**"
      ],
      "metadata": {
        "id": "QEaO7ixsAxOG"
      }
    },
    {
      "cell_type": "code",
      "execution_count": null,
      "metadata": {
        "id": "UQdyrhepAnud"
      },
      "outputs": [],
      "source": [
        "# Librerias uso básico\n",
        "import numpy as np\n",
        "import pandas as pd\n",
        "\n",
        "# Librerias para gráficar\n",
        "import seaborn as sns\n",
        "import matplotlib.pyplot as plt\n",
        "\n",
        "from sklearn.model_selection import train_test_split, cross_validate, StratifiedKFold, LeaveOneOut\n",
        "from sklearn.metrics import accuracy_score, precision_score, recall_score, f1_score, roc_auc_score, make_scorer, confusion_matrix, roc_curve, auc\n",
        "from sklearn.linear_model import LogisticRegression\n",
        "from sklearn.preprocessing import MinMaxScaler\n",
        "\n",
        "from imblearn.over_sampling import SMOTE\n",
        "from imblearn.under_sampling import RandomUnderSampler"
      ]
    },
    {
      "cell_type": "markdown",
      "source": [
        "## Cargamos el dataset"
      ],
      "metadata": {
        "id": "6aDYTMcpm0PD"
      }
    },
    {
      "cell_type": "markdown",
      "source": [
        "Descargamos el archivo .CSV que está alojado en Google Drive mediante una petición, y luego conseguimos su contenido para ser parseado a texto"
      ],
      "metadata": {
        "id": "Nih6V6bOBecK"
      }
    },
    {
      "cell_type": "code",
      "source": [
        "import requests\n",
        "from io import StringIO\n",
        "\n",
        "# URL con CSV\n",
        "url = 'https://drive.google.com/uc?export=download&id=1iMiM-j44duS2TrxH4gQL2FStoimnIlT1'\n",
        "\n",
        "response = requests.get(url)\n",
        "response.raise_for_status()  # Check if the request was successful\n",
        "data_csv = StringIO(response.text)"
      ],
      "metadata": {
        "id": "pTGyZPUWBlpC"
      },
      "execution_count": null,
      "outputs": []
    },
    {
      "cell_type": "markdown",
      "source": [
        "Debido a que el archivo no contiene nombre de columnas, nosotros mismos asignamos los nombres"
      ],
      "metadata": {
        "id": "F-q4hBEyChgD"
      }
    },
    {
      "cell_type": "code",
      "source": [
        "# Columnas explicadas en https://archive.ics.uci.edu/dataset/17/breast+cancer+wisconsin+diagnostic > \"Additional Variable Information\"\n",
        "# La estructura de las columnas 3 a 32 se presenta en tres formas:\n",
        "#   - Media (mean)\n",
        "#   - Error (se)\n",
        "#   - Peor (worst)\n",
        "\n",
        "column_names = [\n",
        "    \"ID\", \"Diagnosis\",\n",
        "    \"Radius_mean\", \"Texture_mean\", \"Perimeter_mean\", \"Area_mean\", \"Smoothness_mean\", \"Compactness_mean\", \"Concavity_mean\", \"Concave_points_mean\", \"Symmetry_mean\", \"Fractal_dimension_mean\",\n",
        "    \"Radius_se\", \"Texture_se\", \"Perimeter_se\", \"Area_se\", \"Smoothness_se\", \"Compactness_se\", \"Concavity_se\", \"Concave_points_se\", \"Symmetry_se\", \"Fractal_dimension_se\",\n",
        "    \"Radius_worst\", \"Texture_worst\", \"Perimeter_worst\", \"Area_worst\", \"Smoothness_worst\", \"Compactness_worst\", \"Concavity_worst\", \"Concave_points_worst\", \"Symmetry_worst\", \"Fractal_dimension_worst\"\n",
        "]"
      ],
      "metadata": {
        "id": "qjcrAv10BBVT"
      },
      "execution_count": null,
      "outputs": []
    },
    {
      "cell_type": "code",
      "source": [
        "data = pd.read_csv(data_csv, sep = \",\", header=None, names=column_names)"
      ],
      "metadata": {
        "id": "iJ3Y3B9bAvi6"
      },
      "execution_count": null,
      "outputs": []
    },
    {
      "cell_type": "code",
      "source": [
        "data['Diagnosis'] = data['Diagnosis'].map({'M': 1, 'B': 0})\n",
        "\n",
        "data.head()"
      ],
      "metadata": {
        "colab": {
          "base_uri": "https://localhost:8080/",
          "height": 256
        },
        "id": "scN-zGVtwVW8",
        "outputId": "f3cc3daf-bec8-4033-8b85-ce53373c17f2"
      },
      "execution_count": null,
      "outputs": [
        {
          "output_type": "execute_result",
          "data": {
            "text/plain": [
              "         ID  Diagnosis  Radius_mean  Texture_mean  Perimeter_mean  Area_mean  \\\n",
              "0    842302          1        17.99         10.38          122.80     1001.0   \n",
              "1    842517          1        20.57         17.77          132.90     1326.0   \n",
              "2  84300903          1        19.69         21.25          130.00     1203.0   \n",
              "3  84348301          1        11.42         20.38           77.58      386.1   \n",
              "4  84358402          1        20.29         14.34          135.10     1297.0   \n",
              "\n",
              "   Smoothness_mean  Compactness_mean  Concavity_mean  Concave_points_mean  \\\n",
              "0          0.11840           0.27760          0.3001              0.14710   \n",
              "1          0.08474           0.07864          0.0869              0.07017   \n",
              "2          0.10960           0.15990          0.1974              0.12790   \n",
              "3          0.14250           0.28390          0.2414              0.10520   \n",
              "4          0.10030           0.13280          0.1980              0.10430   \n",
              "\n",
              "   ...  Radius_worst  Texture_worst  Perimeter_worst  Area_worst  \\\n",
              "0  ...         25.38          17.33           184.60      2019.0   \n",
              "1  ...         24.99          23.41           158.80      1956.0   \n",
              "2  ...         23.57          25.53           152.50      1709.0   \n",
              "3  ...         14.91          26.50            98.87       567.7   \n",
              "4  ...         22.54          16.67           152.20      1575.0   \n",
              "\n",
              "   Smoothness_worst  Compactness_worst  Concavity_worst  Concave_points_worst  \\\n",
              "0            0.1622             0.6656           0.7119                0.2654   \n",
              "1            0.1238             0.1866           0.2416                0.1860   \n",
              "2            0.1444             0.4245           0.4504                0.2430   \n",
              "3            0.2098             0.8663           0.6869                0.2575   \n",
              "4            0.1374             0.2050           0.4000                0.1625   \n",
              "\n",
              "   Symmetry_worst  Fractal_dimension_worst  \n",
              "0          0.4601                  0.11890  \n",
              "1          0.2750                  0.08902  \n",
              "2          0.3613                  0.08758  \n",
              "3          0.6638                  0.17300  \n",
              "4          0.2364                  0.07678  \n",
              "\n",
              "[5 rows x 32 columns]"
            ],
            "text/html": [
              "\n",
              "  <div id=\"df-19dea974-5ab9-4fa9-951f-5386f8466ac7\" class=\"colab-df-container\">\n",
              "    <div>\n",
              "<style scoped>\n",
              "    .dataframe tbody tr th:only-of-type {\n",
              "        vertical-align: middle;\n",
              "    }\n",
              "\n",
              "    .dataframe tbody tr th {\n",
              "        vertical-align: top;\n",
              "    }\n",
              "\n",
              "    .dataframe thead th {\n",
              "        text-align: right;\n",
              "    }\n",
              "</style>\n",
              "<table border=\"1\" class=\"dataframe\">\n",
              "  <thead>\n",
              "    <tr style=\"text-align: right;\">\n",
              "      <th></th>\n",
              "      <th>ID</th>\n",
              "      <th>Diagnosis</th>\n",
              "      <th>Radius_mean</th>\n",
              "      <th>Texture_mean</th>\n",
              "      <th>Perimeter_mean</th>\n",
              "      <th>Area_mean</th>\n",
              "      <th>Smoothness_mean</th>\n",
              "      <th>Compactness_mean</th>\n",
              "      <th>Concavity_mean</th>\n",
              "      <th>Concave_points_mean</th>\n",
              "      <th>...</th>\n",
              "      <th>Radius_worst</th>\n",
              "      <th>Texture_worst</th>\n",
              "      <th>Perimeter_worst</th>\n",
              "      <th>Area_worst</th>\n",
              "      <th>Smoothness_worst</th>\n",
              "      <th>Compactness_worst</th>\n",
              "      <th>Concavity_worst</th>\n",
              "      <th>Concave_points_worst</th>\n",
              "      <th>Symmetry_worst</th>\n",
              "      <th>Fractal_dimension_worst</th>\n",
              "    </tr>\n",
              "  </thead>\n",
              "  <tbody>\n",
              "    <tr>\n",
              "      <th>0</th>\n",
              "      <td>842302</td>\n",
              "      <td>1</td>\n",
              "      <td>17.99</td>\n",
              "      <td>10.38</td>\n",
              "      <td>122.80</td>\n",
              "      <td>1001.0</td>\n",
              "      <td>0.11840</td>\n",
              "      <td>0.27760</td>\n",
              "      <td>0.3001</td>\n",
              "      <td>0.14710</td>\n",
              "      <td>...</td>\n",
              "      <td>25.38</td>\n",
              "      <td>17.33</td>\n",
              "      <td>184.60</td>\n",
              "      <td>2019.0</td>\n",
              "      <td>0.1622</td>\n",
              "      <td>0.6656</td>\n",
              "      <td>0.7119</td>\n",
              "      <td>0.2654</td>\n",
              "      <td>0.4601</td>\n",
              "      <td>0.11890</td>\n",
              "    </tr>\n",
              "    <tr>\n",
              "      <th>1</th>\n",
              "      <td>842517</td>\n",
              "      <td>1</td>\n",
              "      <td>20.57</td>\n",
              "      <td>17.77</td>\n",
              "      <td>132.90</td>\n",
              "      <td>1326.0</td>\n",
              "      <td>0.08474</td>\n",
              "      <td>0.07864</td>\n",
              "      <td>0.0869</td>\n",
              "      <td>0.07017</td>\n",
              "      <td>...</td>\n",
              "      <td>24.99</td>\n",
              "      <td>23.41</td>\n",
              "      <td>158.80</td>\n",
              "      <td>1956.0</td>\n",
              "      <td>0.1238</td>\n",
              "      <td>0.1866</td>\n",
              "      <td>0.2416</td>\n",
              "      <td>0.1860</td>\n",
              "      <td>0.2750</td>\n",
              "      <td>0.08902</td>\n",
              "    </tr>\n",
              "    <tr>\n",
              "      <th>2</th>\n",
              "      <td>84300903</td>\n",
              "      <td>1</td>\n",
              "      <td>19.69</td>\n",
              "      <td>21.25</td>\n",
              "      <td>130.00</td>\n",
              "      <td>1203.0</td>\n",
              "      <td>0.10960</td>\n",
              "      <td>0.15990</td>\n",
              "      <td>0.1974</td>\n",
              "      <td>0.12790</td>\n",
              "      <td>...</td>\n",
              "      <td>23.57</td>\n",
              "      <td>25.53</td>\n",
              "      <td>152.50</td>\n",
              "      <td>1709.0</td>\n",
              "      <td>0.1444</td>\n",
              "      <td>0.4245</td>\n",
              "      <td>0.4504</td>\n",
              "      <td>0.2430</td>\n",
              "      <td>0.3613</td>\n",
              "      <td>0.08758</td>\n",
              "    </tr>\n",
              "    <tr>\n",
              "      <th>3</th>\n",
              "      <td>84348301</td>\n",
              "      <td>1</td>\n",
              "      <td>11.42</td>\n",
              "      <td>20.38</td>\n",
              "      <td>77.58</td>\n",
              "      <td>386.1</td>\n",
              "      <td>0.14250</td>\n",
              "      <td>0.28390</td>\n",
              "      <td>0.2414</td>\n",
              "      <td>0.10520</td>\n",
              "      <td>...</td>\n",
              "      <td>14.91</td>\n",
              "      <td>26.50</td>\n",
              "      <td>98.87</td>\n",
              "      <td>567.7</td>\n",
              "      <td>0.2098</td>\n",
              "      <td>0.8663</td>\n",
              "      <td>0.6869</td>\n",
              "      <td>0.2575</td>\n",
              "      <td>0.6638</td>\n",
              "      <td>0.17300</td>\n",
              "    </tr>\n",
              "    <tr>\n",
              "      <th>4</th>\n",
              "      <td>84358402</td>\n",
              "      <td>1</td>\n",
              "      <td>20.29</td>\n",
              "      <td>14.34</td>\n",
              "      <td>135.10</td>\n",
              "      <td>1297.0</td>\n",
              "      <td>0.10030</td>\n",
              "      <td>0.13280</td>\n",
              "      <td>0.1980</td>\n",
              "      <td>0.10430</td>\n",
              "      <td>...</td>\n",
              "      <td>22.54</td>\n",
              "      <td>16.67</td>\n",
              "      <td>152.20</td>\n",
              "      <td>1575.0</td>\n",
              "      <td>0.1374</td>\n",
              "      <td>0.2050</td>\n",
              "      <td>0.4000</td>\n",
              "      <td>0.1625</td>\n",
              "      <td>0.2364</td>\n",
              "      <td>0.07678</td>\n",
              "    </tr>\n",
              "  </tbody>\n",
              "</table>\n",
              "<p>5 rows × 32 columns</p>\n",
              "</div>\n",
              "    <div class=\"colab-df-buttons\">\n",
              "\n",
              "  <div class=\"colab-df-container\">\n",
              "    <button class=\"colab-df-convert\" onclick=\"convertToInteractive('df-19dea974-5ab9-4fa9-951f-5386f8466ac7')\"\n",
              "            title=\"Convert this dataframe to an interactive table.\"\n",
              "            style=\"display:none;\">\n",
              "\n",
              "  <svg xmlns=\"http://www.w3.org/2000/svg\" height=\"24px\" viewBox=\"0 -960 960 960\">\n",
              "    <path d=\"M120-120v-720h720v720H120Zm60-500h600v-160H180v160Zm220 220h160v-160H400v160Zm0 220h160v-160H400v160ZM180-400h160v-160H180v160Zm440 0h160v-160H620v160ZM180-180h160v-160H180v160Zm440 0h160v-160H620v160Z\"/>\n",
              "  </svg>\n",
              "    </button>\n",
              "\n",
              "  <style>\n",
              "    .colab-df-container {\n",
              "      display:flex;\n",
              "      gap: 12px;\n",
              "    }\n",
              "\n",
              "    .colab-df-convert {\n",
              "      background-color: #E8F0FE;\n",
              "      border: none;\n",
              "      border-radius: 50%;\n",
              "      cursor: pointer;\n",
              "      display: none;\n",
              "      fill: #1967D2;\n",
              "      height: 32px;\n",
              "      padding: 0 0 0 0;\n",
              "      width: 32px;\n",
              "    }\n",
              "\n",
              "    .colab-df-convert:hover {\n",
              "      background-color: #E2EBFA;\n",
              "      box-shadow: 0px 1px 2px rgba(60, 64, 67, 0.3), 0px 1px 3px 1px rgba(60, 64, 67, 0.15);\n",
              "      fill: #174EA6;\n",
              "    }\n",
              "\n",
              "    .colab-df-buttons div {\n",
              "      margin-bottom: 4px;\n",
              "    }\n",
              "\n",
              "    [theme=dark] .colab-df-convert {\n",
              "      background-color: #3B4455;\n",
              "      fill: #D2E3FC;\n",
              "    }\n",
              "\n",
              "    [theme=dark] .colab-df-convert:hover {\n",
              "      background-color: #434B5C;\n",
              "      box-shadow: 0px 1px 3px 1px rgba(0, 0, 0, 0.15);\n",
              "      filter: drop-shadow(0px 1px 2px rgba(0, 0, 0, 0.3));\n",
              "      fill: #FFFFFF;\n",
              "    }\n",
              "  </style>\n",
              "\n",
              "    <script>\n",
              "      const buttonEl =\n",
              "        document.querySelector('#df-19dea974-5ab9-4fa9-951f-5386f8466ac7 button.colab-df-convert');\n",
              "      buttonEl.style.display =\n",
              "        google.colab.kernel.accessAllowed ? 'block' : 'none';\n",
              "\n",
              "      async function convertToInteractive(key) {\n",
              "        const element = document.querySelector('#df-19dea974-5ab9-4fa9-951f-5386f8466ac7');\n",
              "        const dataTable =\n",
              "          await google.colab.kernel.invokeFunction('convertToInteractive',\n",
              "                                                    [key], {});\n",
              "        if (!dataTable) return;\n",
              "\n",
              "        const docLinkHtml = 'Like what you see? Visit the ' +\n",
              "          '<a target=\"_blank\" href=https://colab.research.google.com/notebooks/data_table.ipynb>data table notebook</a>'\n",
              "          + ' to learn more about interactive tables.';\n",
              "        element.innerHTML = '';\n",
              "        dataTable['output_type'] = 'display_data';\n",
              "        await google.colab.output.renderOutput(dataTable, element);\n",
              "        const docLink = document.createElement('div');\n",
              "        docLink.innerHTML = docLinkHtml;\n",
              "        element.appendChild(docLink);\n",
              "      }\n",
              "    </script>\n",
              "  </div>\n",
              "\n",
              "\n",
              "<div id=\"df-c48f8b68-6bb5-41c7-8265-30f606852e51\">\n",
              "  <button class=\"colab-df-quickchart\" onclick=\"quickchart('df-c48f8b68-6bb5-41c7-8265-30f606852e51')\"\n",
              "            title=\"Suggest charts\"\n",
              "            style=\"display:none;\">\n",
              "\n",
              "<svg xmlns=\"http://www.w3.org/2000/svg\" height=\"24px\"viewBox=\"0 0 24 24\"\n",
              "     width=\"24px\">\n",
              "    <g>\n",
              "        <path d=\"M19 3H5c-1.1 0-2 .9-2 2v14c0 1.1.9 2 2 2h14c1.1 0 2-.9 2-2V5c0-1.1-.9-2-2-2zM9 17H7v-7h2v7zm4 0h-2V7h2v10zm4 0h-2v-4h2v4z\"/>\n",
              "    </g>\n",
              "</svg>\n",
              "  </button>\n",
              "\n",
              "<style>\n",
              "  .colab-df-quickchart {\n",
              "      --bg-color: #E8F0FE;\n",
              "      --fill-color: #1967D2;\n",
              "      --hover-bg-color: #E2EBFA;\n",
              "      --hover-fill-color: #174EA6;\n",
              "      --disabled-fill-color: #AAA;\n",
              "      --disabled-bg-color: #DDD;\n",
              "  }\n",
              "\n",
              "  [theme=dark] .colab-df-quickchart {\n",
              "      --bg-color: #3B4455;\n",
              "      --fill-color: #D2E3FC;\n",
              "      --hover-bg-color: #434B5C;\n",
              "      --hover-fill-color: #FFFFFF;\n",
              "      --disabled-bg-color: #3B4455;\n",
              "      --disabled-fill-color: #666;\n",
              "  }\n",
              "\n",
              "  .colab-df-quickchart {\n",
              "    background-color: var(--bg-color);\n",
              "    border: none;\n",
              "    border-radius: 50%;\n",
              "    cursor: pointer;\n",
              "    display: none;\n",
              "    fill: var(--fill-color);\n",
              "    height: 32px;\n",
              "    padding: 0;\n",
              "    width: 32px;\n",
              "  }\n",
              "\n",
              "  .colab-df-quickchart:hover {\n",
              "    background-color: var(--hover-bg-color);\n",
              "    box-shadow: 0 1px 2px rgba(60, 64, 67, 0.3), 0 1px 3px 1px rgba(60, 64, 67, 0.15);\n",
              "    fill: var(--button-hover-fill-color);\n",
              "  }\n",
              "\n",
              "  .colab-df-quickchart-complete:disabled,\n",
              "  .colab-df-quickchart-complete:disabled:hover {\n",
              "    background-color: var(--disabled-bg-color);\n",
              "    fill: var(--disabled-fill-color);\n",
              "    box-shadow: none;\n",
              "  }\n",
              "\n",
              "  .colab-df-spinner {\n",
              "    border: 2px solid var(--fill-color);\n",
              "    border-color: transparent;\n",
              "    border-bottom-color: var(--fill-color);\n",
              "    animation:\n",
              "      spin 1s steps(1) infinite;\n",
              "  }\n",
              "\n",
              "  @keyframes spin {\n",
              "    0% {\n",
              "      border-color: transparent;\n",
              "      border-bottom-color: var(--fill-color);\n",
              "      border-left-color: var(--fill-color);\n",
              "    }\n",
              "    20% {\n",
              "      border-color: transparent;\n",
              "      border-left-color: var(--fill-color);\n",
              "      border-top-color: var(--fill-color);\n",
              "    }\n",
              "    30% {\n",
              "      border-color: transparent;\n",
              "      border-left-color: var(--fill-color);\n",
              "      border-top-color: var(--fill-color);\n",
              "      border-right-color: var(--fill-color);\n",
              "    }\n",
              "    40% {\n",
              "      border-color: transparent;\n",
              "      border-right-color: var(--fill-color);\n",
              "      border-top-color: var(--fill-color);\n",
              "    }\n",
              "    60% {\n",
              "      border-color: transparent;\n",
              "      border-right-color: var(--fill-color);\n",
              "    }\n",
              "    80% {\n",
              "      border-color: transparent;\n",
              "      border-right-color: var(--fill-color);\n",
              "      border-bottom-color: var(--fill-color);\n",
              "    }\n",
              "    90% {\n",
              "      border-color: transparent;\n",
              "      border-bottom-color: var(--fill-color);\n",
              "    }\n",
              "  }\n",
              "</style>\n",
              "\n",
              "  <script>\n",
              "    async function quickchart(key) {\n",
              "      const quickchartButtonEl =\n",
              "        document.querySelector('#' + key + ' button');\n",
              "      quickchartButtonEl.disabled = true;  // To prevent multiple clicks.\n",
              "      quickchartButtonEl.classList.add('colab-df-spinner');\n",
              "      try {\n",
              "        const charts = await google.colab.kernel.invokeFunction(\n",
              "            'suggestCharts', [key], {});\n",
              "      } catch (error) {\n",
              "        console.error('Error during call to suggestCharts:', error);\n",
              "      }\n",
              "      quickchartButtonEl.classList.remove('colab-df-spinner');\n",
              "      quickchartButtonEl.classList.add('colab-df-quickchart-complete');\n",
              "    }\n",
              "    (() => {\n",
              "      let quickchartButtonEl =\n",
              "        document.querySelector('#df-c48f8b68-6bb5-41c7-8265-30f606852e51 button');\n",
              "      quickchartButtonEl.style.display =\n",
              "        google.colab.kernel.accessAllowed ? 'block' : 'none';\n",
              "    })();\n",
              "  </script>\n",
              "</div>\n",
              "    </div>\n",
              "  </div>\n"
            ],
            "application/vnd.google.colaboratory.intrinsic+json": {
              "type": "dataframe",
              "variable_name": "data"
            }
          },
          "metadata": {},
          "execution_count": 5
        }
      ]
    },
    {
      "cell_type": "markdown",
      "source": [
        "### PyCaret"
      ],
      "metadata": {
        "id": "IZcfkXXKvr3T"
      }
    },
    {
      "cell_type": "markdown",
      "source": [
        "Utilizaremos PyCaret para poder conseguir un \"ranking\" de modelos y ver cuales son mejores para nuestro problema de clasificación"
      ],
      "metadata": {
        "id": "MSaVr1uzvwID"
      }
    },
    {
      "cell_type": "markdown",
      "source": [
        "Primero dividiremos el dataset en train y test"
      ],
      "metadata": {
        "id": "EJ8vOqKWzSUs"
      }
    },
    {
      "cell_type": "code",
      "source": [
        "train_data, test_data = train_test_split(data, test_size=0.2, random_state=123)"
      ],
      "metadata": {
        "id": "-I7_uvG0zVFD"
      },
      "execution_count": null,
      "outputs": []
    },
    {
      "cell_type": "markdown",
      "source": [
        "Ahora instalamos PyCaret"
      ],
      "metadata": {
        "id": "8DAm8q2RzZqk"
      }
    },
    {
      "cell_type": "code",
      "source": [
        "!pip install pycaret"
      ],
      "metadata": {
        "colab": {
          "base_uri": "https://localhost:8080/"
        },
        "id": "t4SovQ5zwQBs",
        "outputId": "24890a1f-5e24-4bda-eb2c-fb6da31efedc"
      },
      "execution_count": null,
      "outputs": [
        {
          "output_type": "stream",
          "name": "stdout",
          "text": [
            "Requirement already satisfied: pycaret in /usr/local/lib/python3.10/dist-packages (3.3.1)\n",
            "Requirement already satisfied: category-encoders>=2.4.0 in /usr/local/lib/python3.10/dist-packages (from pycaret) (2.6.3)\n",
            "Requirement already satisfied: cloudpickle in /usr/local/lib/python3.10/dist-packages (from pycaret) (2.2.1)\n",
            "Requirement already satisfied: deprecation>=2.1.0 in /usr/local/lib/python3.10/dist-packages (from pycaret) (2.1.0)\n",
            "Requirement already satisfied: imbalanced-learn>=0.12.0 in /usr/local/lib/python3.10/dist-packages (from pycaret) (0.12.2)\n",
            "Requirement already satisfied: importlib-metadata>=4.12.0 in /usr/local/lib/python3.10/dist-packages (from pycaret) (7.1.0)\n",
            "Requirement already satisfied: ipython>=5.5.0 in /usr/local/lib/python3.10/dist-packages (from pycaret) (7.34.0)\n",
            "Requirement already satisfied: ipywidgets>=7.6.5 in /usr/local/lib/python3.10/dist-packages (from pycaret) (7.7.1)\n",
            "Requirement already satisfied: jinja2>=3 in /usr/local/lib/python3.10/dist-packages (from pycaret) (3.1.3)\n",
            "Requirement already satisfied: joblib<1.4,>=1.2.0 in /usr/local/lib/python3.10/dist-packages (from pycaret) (1.3.2)\n",
            "Requirement already satisfied: kaleido>=0.2.1 in /usr/local/lib/python3.10/dist-packages (from pycaret) (0.2.1)\n",
            "Requirement already satisfied: lightgbm>=3.0.0 in /usr/local/lib/python3.10/dist-packages (from pycaret) (4.1.0)\n",
            "Requirement already satisfied: markupsafe>=2.0.1 in /usr/local/lib/python3.10/dist-packages (from pycaret) (2.1.5)\n",
            "Requirement already satisfied: matplotlib<3.8.0 in /usr/local/lib/python3.10/dist-packages (from pycaret) (3.7.1)\n",
            "Requirement already satisfied: nbformat>=4.2.0 in /usr/local/lib/python3.10/dist-packages (from pycaret) (5.10.4)\n",
            "Requirement already satisfied: numba>=0.55.0 in /usr/local/lib/python3.10/dist-packages (from pycaret) (0.58.1)\n",
            "Requirement already satisfied: numpy<1.27,>=1.21 in /usr/local/lib/python3.10/dist-packages (from pycaret) (1.25.2)\n",
            "Requirement already satisfied: pandas<2.2.0 in /usr/local/lib/python3.10/dist-packages (from pycaret) (2.0.3)\n",
            "Requirement already satisfied: plotly-resampler>=0.8.3.1 in /usr/local/lib/python3.10/dist-packages (from pycaret) (0.10.0)\n",
            "Requirement already satisfied: plotly>=5.14.0 in /usr/local/lib/python3.10/dist-packages (from pycaret) (5.15.0)\n",
            "Requirement already satisfied: pmdarima>=2.0.4 in /usr/local/lib/python3.10/dist-packages (from pycaret) (2.0.4)\n",
            "Requirement already satisfied: psutil>=5.9.0 in /usr/local/lib/python3.10/dist-packages (from pycaret) (5.9.5)\n",
            "Requirement already satisfied: pyod>=1.1.3 in /usr/local/lib/python3.10/dist-packages (from pycaret) (1.1.3)\n",
            "Requirement already satisfied: requests>=2.27.1 in /usr/local/lib/python3.10/dist-packages (from pycaret) (2.31.0)\n",
            "Requirement already satisfied: schemdraw==0.15 in /usr/local/lib/python3.10/dist-packages (from pycaret) (0.15)\n",
            "Requirement already satisfied: scikit-learn>1.4.0 in /usr/local/lib/python3.10/dist-packages (from pycaret) (1.4.2)\n",
            "Requirement already satisfied: scikit-plot>=0.3.7 in /usr/local/lib/python3.10/dist-packages (from pycaret) (0.3.7)\n",
            "Requirement already satisfied: scipy<=1.11.4,>=1.6.1 in /usr/local/lib/python3.10/dist-packages (from pycaret) (1.11.4)\n",
            "Requirement already satisfied: sktime==0.26.0 in /usr/local/lib/python3.10/dist-packages (from pycaret) (0.26.0)\n",
            "Requirement already satisfied: statsmodels>=0.12.1 in /usr/local/lib/python3.10/dist-packages (from pycaret) (0.14.1)\n",
            "Requirement already satisfied: tbats>=1.1.3 in /usr/local/lib/python3.10/dist-packages (from pycaret) (1.1.3)\n",
            "Requirement already satisfied: tqdm>=4.62.0 in /usr/local/lib/python3.10/dist-packages (from pycaret) (4.66.2)\n",
            "Requirement already satisfied: xxhash in /usr/local/lib/python3.10/dist-packages (from pycaret) (3.4.1)\n",
            "Requirement already satisfied: yellowbrick>=1.4 in /usr/local/lib/python3.10/dist-packages (from pycaret) (1.5)\n",
            "Requirement already satisfied: wurlitzer in /usr/local/lib/python3.10/dist-packages (from pycaret) (3.0.3)\n",
            "Requirement already satisfied: packaging in /usr/local/lib/python3.10/dist-packages (from sktime==0.26.0->pycaret) (24.0)\n",
            "Requirement already satisfied: scikit-base<0.8.0 in /usr/local/lib/python3.10/dist-packages (from sktime==0.26.0->pycaret) (0.7.5)\n",
            "Requirement already satisfied: patsy>=0.5.1 in /usr/local/lib/python3.10/dist-packages (from category-encoders>=2.4.0->pycaret) (0.5.6)\n",
            "Requirement already satisfied: threadpoolctl>=2.0.0 in /usr/local/lib/python3.10/dist-packages (from imbalanced-learn>=0.12.0->pycaret) (3.4.0)\n",
            "Requirement already satisfied: zipp>=0.5 in /usr/local/lib/python3.10/dist-packages (from importlib-metadata>=4.12.0->pycaret) (3.18.1)\n",
            "Requirement already satisfied: setuptools>=18.5 in /usr/local/lib/python3.10/dist-packages (from ipython>=5.5.0->pycaret) (67.7.2)\n",
            "Requirement already satisfied: jedi>=0.16 in /usr/local/lib/python3.10/dist-packages (from ipython>=5.5.0->pycaret) (0.19.1)\n",
            "Requirement already satisfied: decorator in /usr/local/lib/python3.10/dist-packages (from ipython>=5.5.0->pycaret) (4.4.2)\n",
            "Requirement already satisfied: pickleshare in /usr/local/lib/python3.10/dist-packages (from ipython>=5.5.0->pycaret) (0.7.5)\n",
            "Requirement already satisfied: traitlets>=4.2 in /usr/local/lib/python3.10/dist-packages (from ipython>=5.5.0->pycaret) (5.7.1)\n",
            "Requirement already satisfied: prompt-toolkit!=3.0.0,!=3.0.1,<3.1.0,>=2.0.0 in /usr/local/lib/python3.10/dist-packages (from ipython>=5.5.0->pycaret) (3.0.43)\n",
            "Requirement already satisfied: pygments in /usr/local/lib/python3.10/dist-packages (from ipython>=5.5.0->pycaret) (2.16.1)\n",
            "Requirement already satisfied: backcall in /usr/local/lib/python3.10/dist-packages (from ipython>=5.5.0->pycaret) (0.2.0)\n",
            "Requirement already satisfied: matplotlib-inline in /usr/local/lib/python3.10/dist-packages (from ipython>=5.5.0->pycaret) (0.1.6)\n",
            "Requirement already satisfied: pexpect>4.3 in /usr/local/lib/python3.10/dist-packages (from ipython>=5.5.0->pycaret) (4.9.0)\n",
            "Requirement already satisfied: ipykernel>=4.5.1 in /usr/local/lib/python3.10/dist-packages (from ipywidgets>=7.6.5->pycaret) (5.5.6)\n",
            "Requirement already satisfied: ipython-genutils~=0.2.0 in /usr/local/lib/python3.10/dist-packages (from ipywidgets>=7.6.5->pycaret) (0.2.0)\n",
            "Requirement already satisfied: widgetsnbextension~=3.6.0 in /usr/local/lib/python3.10/dist-packages (from ipywidgets>=7.6.5->pycaret) (3.6.6)\n",
            "Requirement already satisfied: jupyterlab-widgets>=1.0.0 in /usr/local/lib/python3.10/dist-packages (from ipywidgets>=7.6.5->pycaret) (3.0.10)\n",
            "Requirement already satisfied: contourpy>=1.0.1 in /usr/local/lib/python3.10/dist-packages (from matplotlib<3.8.0->pycaret) (1.2.1)\n",
            "Requirement already satisfied: cycler>=0.10 in /usr/local/lib/python3.10/dist-packages (from matplotlib<3.8.0->pycaret) (0.12.1)\n",
            "Requirement already satisfied: fonttools>=4.22.0 in /usr/local/lib/python3.10/dist-packages (from matplotlib<3.8.0->pycaret) (4.51.0)\n",
            "Requirement already satisfied: kiwisolver>=1.0.1 in /usr/local/lib/python3.10/dist-packages (from matplotlib<3.8.0->pycaret) (1.4.5)\n",
            "Requirement already satisfied: pillow>=6.2.0 in /usr/local/lib/python3.10/dist-packages (from matplotlib<3.8.0->pycaret) (9.4.0)\n",
            "Requirement already satisfied: pyparsing>=2.3.1 in /usr/local/lib/python3.10/dist-packages (from matplotlib<3.8.0->pycaret) (3.1.2)\n",
            "Requirement already satisfied: python-dateutil>=2.7 in /usr/local/lib/python3.10/dist-packages (from matplotlib<3.8.0->pycaret) (2.8.2)\n",
            "Requirement already satisfied: fastjsonschema>=2.15 in /usr/local/lib/python3.10/dist-packages (from nbformat>=4.2.0->pycaret) (2.19.1)\n",
            "Requirement already satisfied: jsonschema>=2.6 in /usr/local/lib/python3.10/dist-packages (from nbformat>=4.2.0->pycaret) (4.19.2)\n",
            "Requirement already satisfied: jupyter-core!=5.0.*,>=4.12 in /usr/local/lib/python3.10/dist-packages (from nbformat>=4.2.0->pycaret) (5.7.2)\n",
            "Requirement already satisfied: llvmlite<0.42,>=0.41.0dev0 in /usr/local/lib/python3.10/dist-packages (from numba>=0.55.0->pycaret) (0.41.1)\n",
            "Requirement already satisfied: pytz>=2020.1 in /usr/local/lib/python3.10/dist-packages (from pandas<2.2.0->pycaret) (2023.4)\n",
            "Requirement already satisfied: tzdata>=2022.1 in /usr/local/lib/python3.10/dist-packages (from pandas<2.2.0->pycaret) (2024.1)\n",
            "Requirement already satisfied: tenacity>=6.2.0 in /usr/local/lib/python3.10/dist-packages (from plotly>=5.14.0->pycaret) (8.2.3)\n",
            "Requirement already satisfied: dash>=2.9.0 in /usr/local/lib/python3.10/dist-packages (from plotly-resampler>=0.8.3.1->pycaret) (2.16.1)\n",
            "Requirement already satisfied: orjson<4.0.0,>=3.8.0 in /usr/local/lib/python3.10/dist-packages (from plotly-resampler>=0.8.3.1->pycaret) (3.10.1)\n",
            "Requirement already satisfied: tsdownsample>=0.1.3 in /usr/local/lib/python3.10/dist-packages (from plotly-resampler>=0.8.3.1->pycaret) (0.1.3)\n",
            "Requirement already satisfied: Cython!=0.29.18,!=0.29.31,>=0.29 in /usr/local/lib/python3.10/dist-packages (from pmdarima>=2.0.4->pycaret) (3.0.10)\n",
            "Requirement already satisfied: urllib3 in /usr/local/lib/python3.10/dist-packages (from pmdarima>=2.0.4->pycaret) (2.0.7)\n",
            "Requirement already satisfied: six in /usr/local/lib/python3.10/dist-packages (from pyod>=1.1.3->pycaret) (1.16.0)\n",
            "Requirement already satisfied: charset-normalizer<4,>=2 in /usr/local/lib/python3.10/dist-packages (from requests>=2.27.1->pycaret) (3.3.2)\n",
            "Requirement already satisfied: idna<4,>=2.5 in /usr/local/lib/python3.10/dist-packages (from requests>=2.27.1->pycaret) (3.6)\n",
            "Requirement already satisfied: certifi>=2017.4.17 in /usr/local/lib/python3.10/dist-packages (from requests>=2.27.1->pycaret) (2024.2.2)\n",
            "Requirement already satisfied: Flask<3.1,>=1.0.4 in /usr/local/lib/python3.10/dist-packages (from dash>=2.9.0->plotly-resampler>=0.8.3.1->pycaret) (2.2.5)\n",
            "Requirement already satisfied: Werkzeug<3.1 in /usr/local/lib/python3.10/dist-packages (from dash>=2.9.0->plotly-resampler>=0.8.3.1->pycaret) (3.0.2)\n",
            "Requirement already satisfied: dash-html-components==2.0.0 in /usr/local/lib/python3.10/dist-packages (from dash>=2.9.0->plotly-resampler>=0.8.3.1->pycaret) (2.0.0)\n",
            "Requirement already satisfied: dash-core-components==2.0.0 in /usr/local/lib/python3.10/dist-packages (from dash>=2.9.0->plotly-resampler>=0.8.3.1->pycaret) (2.0.0)\n",
            "Requirement already satisfied: dash-table==5.0.0 in /usr/local/lib/python3.10/dist-packages (from dash>=2.9.0->plotly-resampler>=0.8.3.1->pycaret) (5.0.0)\n",
            "Requirement already satisfied: typing-extensions>=4.1.1 in /usr/local/lib/python3.10/dist-packages (from dash>=2.9.0->plotly-resampler>=0.8.3.1->pycaret) (4.11.0)\n",
            "Requirement already satisfied: retrying in /usr/local/lib/python3.10/dist-packages (from dash>=2.9.0->plotly-resampler>=0.8.3.1->pycaret) (1.3.4)\n",
            "Requirement already satisfied: nest-asyncio in /usr/local/lib/python3.10/dist-packages (from dash>=2.9.0->plotly-resampler>=0.8.3.1->pycaret) (1.6.0)\n",
            "Requirement already satisfied: jupyter-client in /usr/local/lib/python3.10/dist-packages (from ipykernel>=4.5.1->ipywidgets>=7.6.5->pycaret) (6.1.12)\n",
            "Requirement already satisfied: tornado>=4.2 in /usr/local/lib/python3.10/dist-packages (from ipykernel>=4.5.1->ipywidgets>=7.6.5->pycaret) (6.3.3)\n",
            "Requirement already satisfied: parso<0.9.0,>=0.8.3 in /usr/local/lib/python3.10/dist-packages (from jedi>=0.16->ipython>=5.5.0->pycaret) (0.8.4)\n",
            "Requirement already satisfied: attrs>=22.2.0 in /usr/local/lib/python3.10/dist-packages (from jsonschema>=2.6->nbformat>=4.2.0->pycaret) (23.2.0)\n",
            "Requirement already satisfied: jsonschema-specifications>=2023.03.6 in /usr/local/lib/python3.10/dist-packages (from jsonschema>=2.6->nbformat>=4.2.0->pycaret) (2023.12.1)\n",
            "Requirement already satisfied: referencing>=0.28.4 in /usr/local/lib/python3.10/dist-packages (from jsonschema>=2.6->nbformat>=4.2.0->pycaret) (0.34.0)\n",
            "Requirement already satisfied: rpds-py>=0.7.1 in /usr/local/lib/python3.10/dist-packages (from jsonschema>=2.6->nbformat>=4.2.0->pycaret) (0.18.0)\n",
            "Requirement already satisfied: platformdirs>=2.5 in /usr/local/lib/python3.10/dist-packages (from jupyter-core!=5.0.*,>=4.12->nbformat>=4.2.0->pycaret) (4.2.0)\n",
            "Requirement already satisfied: ptyprocess>=0.5 in /usr/local/lib/python3.10/dist-packages (from pexpect>4.3->ipython>=5.5.0->pycaret) (0.7.0)\n",
            "Requirement already satisfied: wcwidth in /usr/local/lib/python3.10/dist-packages (from prompt-toolkit!=3.0.0,!=3.0.1,<3.1.0,>=2.0.0->ipython>=5.5.0->pycaret) (0.2.13)\n",
            "Requirement already satisfied: notebook>=4.4.1 in /usr/local/lib/python3.10/dist-packages (from widgetsnbextension~=3.6.0->ipywidgets>=7.6.5->pycaret) (6.5.5)\n",
            "Requirement already satisfied: itsdangerous>=2.0 in /usr/local/lib/python3.10/dist-packages (from Flask<3.1,>=1.0.4->dash>=2.9.0->plotly-resampler>=0.8.3.1->pycaret) (2.1.2)\n",
            "Requirement already satisfied: click>=8.0 in /usr/local/lib/python3.10/dist-packages (from Flask<3.1,>=1.0.4->dash>=2.9.0->plotly-resampler>=0.8.3.1->pycaret) (8.1.7)\n",
            "Requirement already satisfied: pyzmq<25,>=17 in /usr/local/lib/python3.10/dist-packages (from notebook>=4.4.1->widgetsnbextension~=3.6.0->ipywidgets>=7.6.5->pycaret) (23.2.1)\n",
            "Requirement already satisfied: argon2-cffi in /usr/local/lib/python3.10/dist-packages (from notebook>=4.4.1->widgetsnbextension~=3.6.0->ipywidgets>=7.6.5->pycaret) (23.1.0)\n",
            "Requirement already satisfied: nbconvert>=5 in /usr/local/lib/python3.10/dist-packages (from notebook>=4.4.1->widgetsnbextension~=3.6.0->ipywidgets>=7.6.5->pycaret) (6.5.4)\n",
            "Requirement already satisfied: Send2Trash>=1.8.0 in /usr/local/lib/python3.10/dist-packages (from notebook>=4.4.1->widgetsnbextension~=3.6.0->ipywidgets>=7.6.5->pycaret) (1.8.3)\n",
            "Requirement already satisfied: terminado>=0.8.3 in /usr/local/lib/python3.10/dist-packages (from notebook>=4.4.1->widgetsnbextension~=3.6.0->ipywidgets>=7.6.5->pycaret) (0.18.1)\n",
            "Requirement already satisfied: prometheus-client in /usr/local/lib/python3.10/dist-packages (from notebook>=4.4.1->widgetsnbextension~=3.6.0->ipywidgets>=7.6.5->pycaret) (0.20.0)\n",
            "Requirement already satisfied: nbclassic>=0.4.7 in /usr/local/lib/python3.10/dist-packages (from notebook>=4.4.1->widgetsnbextension~=3.6.0->ipywidgets>=7.6.5->pycaret) (1.0.0)\n",
            "Requirement already satisfied: jupyter-server>=1.8 in /usr/local/lib/python3.10/dist-packages (from nbclassic>=0.4.7->notebook>=4.4.1->widgetsnbextension~=3.6.0->ipywidgets>=7.6.5->pycaret) (1.24.0)\n",
            "Requirement already satisfied: notebook-shim>=0.2.3 in /usr/local/lib/python3.10/dist-packages (from nbclassic>=0.4.7->notebook>=4.4.1->widgetsnbextension~=3.6.0->ipywidgets>=7.6.5->pycaret) (0.2.4)\n",
            "Requirement already satisfied: lxml in /usr/local/lib/python3.10/dist-packages (from nbconvert>=5->notebook>=4.4.1->widgetsnbextension~=3.6.0->ipywidgets>=7.6.5->pycaret) (4.9.4)\n",
            "Requirement already satisfied: beautifulsoup4 in /usr/local/lib/python3.10/dist-packages (from nbconvert>=5->notebook>=4.4.1->widgetsnbextension~=3.6.0->ipywidgets>=7.6.5->pycaret) (4.12.3)\n",
            "Requirement already satisfied: bleach in /usr/local/lib/python3.10/dist-packages (from nbconvert>=5->notebook>=4.4.1->widgetsnbextension~=3.6.0->ipywidgets>=7.6.5->pycaret) (6.1.0)\n",
            "Requirement already satisfied: defusedxml in /usr/local/lib/python3.10/dist-packages (from nbconvert>=5->notebook>=4.4.1->widgetsnbextension~=3.6.0->ipywidgets>=7.6.5->pycaret) (0.7.1)\n",
            "Requirement already satisfied: entrypoints>=0.2.2 in /usr/local/lib/python3.10/dist-packages (from nbconvert>=5->notebook>=4.4.1->widgetsnbextension~=3.6.0->ipywidgets>=7.6.5->pycaret) (0.4)\n",
            "Requirement already satisfied: jupyterlab-pygments in /usr/local/lib/python3.10/dist-packages (from nbconvert>=5->notebook>=4.4.1->widgetsnbextension~=3.6.0->ipywidgets>=7.6.5->pycaret) (0.3.0)\n",
            "Requirement already satisfied: mistune<2,>=0.8.1 in /usr/local/lib/python3.10/dist-packages (from nbconvert>=5->notebook>=4.4.1->widgetsnbextension~=3.6.0->ipywidgets>=7.6.5->pycaret) (0.8.4)\n",
            "Requirement already satisfied: nbclient>=0.5.0 in /usr/local/lib/python3.10/dist-packages (from nbconvert>=5->notebook>=4.4.1->widgetsnbextension~=3.6.0->ipywidgets>=7.6.5->pycaret) (0.10.0)\n",
            "Requirement already satisfied: pandocfilters>=1.4.1 in /usr/local/lib/python3.10/dist-packages (from nbconvert>=5->notebook>=4.4.1->widgetsnbextension~=3.6.0->ipywidgets>=7.6.5->pycaret) (1.5.1)\n",
            "Requirement already satisfied: tinycss2 in /usr/local/lib/python3.10/dist-packages (from nbconvert>=5->notebook>=4.4.1->widgetsnbextension~=3.6.0->ipywidgets>=7.6.5->pycaret) (1.2.1)\n",
            "Requirement already satisfied: argon2-cffi-bindings in /usr/local/lib/python3.10/dist-packages (from argon2-cffi->notebook>=4.4.1->widgetsnbextension~=3.6.0->ipywidgets>=7.6.5->pycaret) (21.2.0)\n",
            "Requirement already satisfied: anyio<4,>=3.1.0 in /usr/local/lib/python3.10/dist-packages (from jupyter-server>=1.8->nbclassic>=0.4.7->notebook>=4.4.1->widgetsnbextension~=3.6.0->ipywidgets>=7.6.5->pycaret) (3.7.1)\n",
            "Requirement already satisfied: websocket-client in /usr/local/lib/python3.10/dist-packages (from jupyter-server>=1.8->nbclassic>=0.4.7->notebook>=4.4.1->widgetsnbextension~=3.6.0->ipywidgets>=7.6.5->pycaret) (1.7.0)\n",
            "Requirement already satisfied: cffi>=1.0.1 in /usr/local/lib/python3.10/dist-packages (from argon2-cffi-bindings->argon2-cffi->notebook>=4.4.1->widgetsnbextension~=3.6.0->ipywidgets>=7.6.5->pycaret) (1.16.0)\n",
            "Requirement already satisfied: soupsieve>1.2 in /usr/local/lib/python3.10/dist-packages (from beautifulsoup4->nbconvert>=5->notebook>=4.4.1->widgetsnbextension~=3.6.0->ipywidgets>=7.6.5->pycaret) (2.5)\n",
            "Requirement already satisfied: webencodings in /usr/local/lib/python3.10/dist-packages (from bleach->nbconvert>=5->notebook>=4.4.1->widgetsnbextension~=3.6.0->ipywidgets>=7.6.5->pycaret) (0.5.1)\n",
            "Requirement already satisfied: sniffio>=1.1 in /usr/local/lib/python3.10/dist-packages (from anyio<4,>=3.1.0->jupyter-server>=1.8->nbclassic>=0.4.7->notebook>=4.4.1->widgetsnbextension~=3.6.0->ipywidgets>=7.6.5->pycaret) (1.3.1)\n",
            "Requirement already satisfied: exceptiongroup in /usr/local/lib/python3.10/dist-packages (from anyio<4,>=3.1.0->jupyter-server>=1.8->nbclassic>=0.4.7->notebook>=4.4.1->widgetsnbextension~=3.6.0->ipywidgets>=7.6.5->pycaret) (1.2.0)\n",
            "Requirement already satisfied: pycparser in /usr/local/lib/python3.10/dist-packages (from cffi>=1.0.1->argon2-cffi-bindings->argon2-cffi->notebook>=4.4.1->widgetsnbextension~=3.6.0->ipywidgets>=7.6.5->pycaret) (2.22)\n"
          ]
        }
      ]
    },
    {
      "cell_type": "markdown",
      "source": [
        "Realizamos el setup de PyCaret"
      ],
      "metadata": {
        "id": "tGgpttXbwbmA"
      }
    },
    {
      "cell_type": "code",
      "source": [
        "clf = setup(data=train_data, target='Diagnosis', session_id=123)"
      ],
      "metadata": {
        "colab": {
          "base_uri": "https://localhost:8080/",
          "height": 645
        },
        "id": "BEVeOz-nwdoI",
        "outputId": "7d377f38-6020-4f4d-af01-05ccfaee3f09"
      },
      "execution_count": null,
      "outputs": [
        {
          "output_type": "display_data",
          "data": {
            "text/plain": [
              "<pandas.io.formats.style.Styler at 0x7dc78d57e9e0>"
            ],
            "text/html": [
              "<style type=\"text/css\">\n",
              "#T_4e235_row8_col1 {\n",
              "  background-color: lightgreen;\n",
              "}\n",
              "</style>\n",
              "<table id=\"T_4e235\" class=\"dataframe\">\n",
              "  <thead>\n",
              "    <tr>\n",
              "      <th class=\"blank level0\" >&nbsp;</th>\n",
              "      <th id=\"T_4e235_level0_col0\" class=\"col_heading level0 col0\" >Description</th>\n",
              "      <th id=\"T_4e235_level0_col1\" class=\"col_heading level0 col1\" >Value</th>\n",
              "    </tr>\n",
              "  </thead>\n",
              "  <tbody>\n",
              "    <tr>\n",
              "      <th id=\"T_4e235_level0_row0\" class=\"row_heading level0 row0\" >0</th>\n",
              "      <td id=\"T_4e235_row0_col0\" class=\"data row0 col0\" >Session id</td>\n",
              "      <td id=\"T_4e235_row0_col1\" class=\"data row0 col1\" >123</td>\n",
              "    </tr>\n",
              "    <tr>\n",
              "      <th id=\"T_4e235_level0_row1\" class=\"row_heading level0 row1\" >1</th>\n",
              "      <td id=\"T_4e235_row1_col0\" class=\"data row1 col0\" >Target</td>\n",
              "      <td id=\"T_4e235_row1_col1\" class=\"data row1 col1\" >Diagnosis</td>\n",
              "    </tr>\n",
              "    <tr>\n",
              "      <th id=\"T_4e235_level0_row2\" class=\"row_heading level0 row2\" >2</th>\n",
              "      <td id=\"T_4e235_row2_col0\" class=\"data row2 col0\" >Target type</td>\n",
              "      <td id=\"T_4e235_row2_col1\" class=\"data row2 col1\" >Binary</td>\n",
              "    </tr>\n",
              "    <tr>\n",
              "      <th id=\"T_4e235_level0_row3\" class=\"row_heading level0 row3\" >3</th>\n",
              "      <td id=\"T_4e235_row3_col0\" class=\"data row3 col0\" >Original data shape</td>\n",
              "      <td id=\"T_4e235_row3_col1\" class=\"data row3 col1\" >(455, 32)</td>\n",
              "    </tr>\n",
              "    <tr>\n",
              "      <th id=\"T_4e235_level0_row4\" class=\"row_heading level0 row4\" >4</th>\n",
              "      <td id=\"T_4e235_row4_col0\" class=\"data row4 col0\" >Transformed data shape</td>\n",
              "      <td id=\"T_4e235_row4_col1\" class=\"data row4 col1\" >(455, 32)</td>\n",
              "    </tr>\n",
              "    <tr>\n",
              "      <th id=\"T_4e235_level0_row5\" class=\"row_heading level0 row5\" >5</th>\n",
              "      <td id=\"T_4e235_row5_col0\" class=\"data row5 col0\" >Transformed train set shape</td>\n",
              "      <td id=\"T_4e235_row5_col1\" class=\"data row5 col1\" >(318, 32)</td>\n",
              "    </tr>\n",
              "    <tr>\n",
              "      <th id=\"T_4e235_level0_row6\" class=\"row_heading level0 row6\" >6</th>\n",
              "      <td id=\"T_4e235_row6_col0\" class=\"data row6 col0\" >Transformed test set shape</td>\n",
              "      <td id=\"T_4e235_row6_col1\" class=\"data row6 col1\" >(137, 32)</td>\n",
              "    </tr>\n",
              "    <tr>\n",
              "      <th id=\"T_4e235_level0_row7\" class=\"row_heading level0 row7\" >7</th>\n",
              "      <td id=\"T_4e235_row7_col0\" class=\"data row7 col0\" >Numeric features</td>\n",
              "      <td id=\"T_4e235_row7_col1\" class=\"data row7 col1\" >31</td>\n",
              "    </tr>\n",
              "    <tr>\n",
              "      <th id=\"T_4e235_level0_row8\" class=\"row_heading level0 row8\" >8</th>\n",
              "      <td id=\"T_4e235_row8_col0\" class=\"data row8 col0\" >Preprocess</td>\n",
              "      <td id=\"T_4e235_row8_col1\" class=\"data row8 col1\" >True</td>\n",
              "    </tr>\n",
              "    <tr>\n",
              "      <th id=\"T_4e235_level0_row9\" class=\"row_heading level0 row9\" >9</th>\n",
              "      <td id=\"T_4e235_row9_col0\" class=\"data row9 col0\" >Imputation type</td>\n",
              "      <td id=\"T_4e235_row9_col1\" class=\"data row9 col1\" >simple</td>\n",
              "    </tr>\n",
              "    <tr>\n",
              "      <th id=\"T_4e235_level0_row10\" class=\"row_heading level0 row10\" >10</th>\n",
              "      <td id=\"T_4e235_row10_col0\" class=\"data row10 col0\" >Numeric imputation</td>\n",
              "      <td id=\"T_4e235_row10_col1\" class=\"data row10 col1\" >mean</td>\n",
              "    </tr>\n",
              "    <tr>\n",
              "      <th id=\"T_4e235_level0_row11\" class=\"row_heading level0 row11\" >11</th>\n",
              "      <td id=\"T_4e235_row11_col0\" class=\"data row11 col0\" >Categorical imputation</td>\n",
              "      <td id=\"T_4e235_row11_col1\" class=\"data row11 col1\" >mode</td>\n",
              "    </tr>\n",
              "    <tr>\n",
              "      <th id=\"T_4e235_level0_row12\" class=\"row_heading level0 row12\" >12</th>\n",
              "      <td id=\"T_4e235_row12_col0\" class=\"data row12 col0\" >Fold Generator</td>\n",
              "      <td id=\"T_4e235_row12_col1\" class=\"data row12 col1\" >StratifiedKFold</td>\n",
              "    </tr>\n",
              "    <tr>\n",
              "      <th id=\"T_4e235_level0_row13\" class=\"row_heading level0 row13\" >13</th>\n",
              "      <td id=\"T_4e235_row13_col0\" class=\"data row13 col0\" >Fold Number</td>\n",
              "      <td id=\"T_4e235_row13_col1\" class=\"data row13 col1\" >10</td>\n",
              "    </tr>\n",
              "    <tr>\n",
              "      <th id=\"T_4e235_level0_row14\" class=\"row_heading level0 row14\" >14</th>\n",
              "      <td id=\"T_4e235_row14_col0\" class=\"data row14 col0\" >CPU Jobs</td>\n",
              "      <td id=\"T_4e235_row14_col1\" class=\"data row14 col1\" >-1</td>\n",
              "    </tr>\n",
              "    <tr>\n",
              "      <th id=\"T_4e235_level0_row15\" class=\"row_heading level0 row15\" >15</th>\n",
              "      <td id=\"T_4e235_row15_col0\" class=\"data row15 col0\" >Use GPU</td>\n",
              "      <td id=\"T_4e235_row15_col1\" class=\"data row15 col1\" >False</td>\n",
              "    </tr>\n",
              "    <tr>\n",
              "      <th id=\"T_4e235_level0_row16\" class=\"row_heading level0 row16\" >16</th>\n",
              "      <td id=\"T_4e235_row16_col0\" class=\"data row16 col0\" >Log Experiment</td>\n",
              "      <td id=\"T_4e235_row16_col1\" class=\"data row16 col1\" >False</td>\n",
              "    </tr>\n",
              "    <tr>\n",
              "      <th id=\"T_4e235_level0_row17\" class=\"row_heading level0 row17\" >17</th>\n",
              "      <td id=\"T_4e235_row17_col0\" class=\"data row17 col0\" >Experiment Name</td>\n",
              "      <td id=\"T_4e235_row17_col1\" class=\"data row17 col1\" >clf-default-name</td>\n",
              "    </tr>\n",
              "    <tr>\n",
              "      <th id=\"T_4e235_level0_row18\" class=\"row_heading level0 row18\" >18</th>\n",
              "      <td id=\"T_4e235_row18_col0\" class=\"data row18 col0\" >USI</td>\n",
              "      <td id=\"T_4e235_row18_col1\" class=\"data row18 col1\" >5746</td>\n",
              "    </tr>\n",
              "  </tbody>\n",
              "</table>\n"
            ]
          },
          "metadata": {}
        }
      ]
    },
    {
      "cell_type": "code",
      "source": [
        "best_model = compare_models()"
      ],
      "metadata": {
        "colab": {
          "base_uri": "https://localhost:8080/",
          "height": 520,
          "referenced_widgets": [
            "f01fd88ab0c5444095d2d4aa7320551d",
            "085d484ce1ab4d4babff661db74db390",
            "c3afae1dc9e84ba9b563cafde60f7331",
            "0abeead4d9f24fb59a34aa4eeefc2d69",
            "5d9caf90ffd74ecfb6399f81524239bc",
            "48b02dcf17c24ce5835b76b3b53a4c14",
            "3979e1a3af284be2beeb5bd48c0f23e2",
            "df9d8964f24a4f3b9d65eb78d2104195",
            "e5d50c5ec54d4b63b0d41fc2989f7adb",
            "dc147c8b05b04d0eb9d931c81e8f27da",
            "861ef86a1ecd4887bfacb61fdf223fd7"
          ]
        },
        "id": "WMUmGftcxvke",
        "outputId": "60a5090b-f914-4773-ce17-b94a5b258718"
      },
      "execution_count": null,
      "outputs": [
        {
          "output_type": "display_data",
          "data": {
            "text/plain": [
              "<IPython.core.display.HTML object>"
            ],
            "text/html": []
          },
          "metadata": {}
        },
        {
          "output_type": "display_data",
          "data": {
            "text/plain": [
              "<pandas.io.formats.style.Styler at 0x7dc78d5b54e0>"
            ],
            "text/html": [
              "<style type=\"text/css\">\n",
              "#T_5c862 th {\n",
              "  text-align: left;\n",
              "}\n",
              "#T_5c862_row0_col0, #T_5c862_row0_col2, #T_5c862_row0_col3, #T_5c862_row0_col4, #T_5c862_row0_col5, #T_5c862_row0_col6, #T_5c862_row0_col7, #T_5c862_row1_col0, #T_5c862_row1_col2, #T_5c862_row1_col4, #T_5c862_row2_col0, #T_5c862_row2_col2, #T_5c862_row2_col3, #T_5c862_row2_col4, #T_5c862_row2_col5, #T_5c862_row2_col6, #T_5c862_row2_col7, #T_5c862_row3_col0, #T_5c862_row3_col1, #T_5c862_row3_col2, #T_5c862_row3_col3, #T_5c862_row3_col4, #T_5c862_row3_col5, #T_5c862_row3_col6, #T_5c862_row3_col7, #T_5c862_row4_col0, #T_5c862_row4_col1, #T_5c862_row4_col2, #T_5c862_row4_col3, #T_5c862_row4_col4, #T_5c862_row4_col5, #T_5c862_row4_col6, #T_5c862_row4_col7, #T_5c862_row5_col0, #T_5c862_row5_col1, #T_5c862_row5_col2, #T_5c862_row5_col4, #T_5c862_row5_col5, #T_5c862_row5_col6, #T_5c862_row5_col7, #T_5c862_row6_col0, #T_5c862_row6_col1, #T_5c862_row6_col3, #T_5c862_row6_col5, #T_5c862_row6_col6, #T_5c862_row6_col7, #T_5c862_row7_col0, #T_5c862_row7_col1, #T_5c862_row7_col2, #T_5c862_row7_col3, #T_5c862_row7_col4, #T_5c862_row7_col5, #T_5c862_row7_col6, #T_5c862_row7_col7, #T_5c862_row8_col0, #T_5c862_row8_col1, #T_5c862_row8_col2, #T_5c862_row8_col3, #T_5c862_row8_col4, #T_5c862_row8_col5, #T_5c862_row8_col6, #T_5c862_row8_col7, #T_5c862_row9_col0, #T_5c862_row9_col1, #T_5c862_row9_col2, #T_5c862_row9_col3, #T_5c862_row9_col4, #T_5c862_row9_col5, #T_5c862_row9_col6, #T_5c862_row9_col7, #T_5c862_row10_col0, #T_5c862_row10_col1, #T_5c862_row10_col2, #T_5c862_row10_col3, #T_5c862_row10_col4, #T_5c862_row10_col5, #T_5c862_row10_col6, #T_5c862_row10_col7, #T_5c862_row11_col0, #T_5c862_row11_col1, #T_5c862_row11_col2, #T_5c862_row11_col3, #T_5c862_row11_col4, #T_5c862_row11_col5, #T_5c862_row11_col6, #T_5c862_row11_col7, #T_5c862_row12_col0, #T_5c862_row12_col1, #T_5c862_row12_col2, #T_5c862_row12_col3, #T_5c862_row12_col4, #T_5c862_row12_col5, #T_5c862_row12_col6, #T_5c862_row12_col7, #T_5c862_row13_col0, #T_5c862_row13_col1, #T_5c862_row13_col2, #T_5c862_row13_col3, #T_5c862_row13_col4, #T_5c862_row13_col5, #T_5c862_row13_col6, #T_5c862_row13_col7, #T_5c862_row14_col0, #T_5c862_row14_col1, #T_5c862_row14_col2, #T_5c862_row14_col3, #T_5c862_row14_col4, #T_5c862_row14_col5, #T_5c862_row14_col6, #T_5c862_row14_col7 {\n",
              "  text-align: left;\n",
              "}\n",
              "#T_5c862_row0_col1, #T_5c862_row1_col1, #T_5c862_row1_col3, #T_5c862_row1_col5, #T_5c862_row1_col6, #T_5c862_row1_col7, #T_5c862_row2_col1, #T_5c862_row5_col3, #T_5c862_row6_col2, #T_5c862_row6_col4 {\n",
              "  text-align: left;\n",
              "  background-color: yellow;\n",
              "}\n",
              "#T_5c862_row0_col8, #T_5c862_row1_col8, #T_5c862_row2_col8, #T_5c862_row3_col8, #T_5c862_row4_col8, #T_5c862_row5_col8, #T_5c862_row6_col8, #T_5c862_row7_col8, #T_5c862_row8_col8, #T_5c862_row9_col8, #T_5c862_row10_col8, #T_5c862_row11_col8, #T_5c862_row12_col8, #T_5c862_row14_col8 {\n",
              "  text-align: left;\n",
              "  background-color: lightgrey;\n",
              "}\n",
              "#T_5c862_row13_col8 {\n",
              "  text-align: left;\n",
              "  background-color: yellow;\n",
              "  background-color: lightgrey;\n",
              "}\n",
              "</style>\n",
              "<table id=\"T_5c862\" class=\"dataframe\">\n",
              "  <thead>\n",
              "    <tr>\n",
              "      <th class=\"blank level0\" >&nbsp;</th>\n",
              "      <th id=\"T_5c862_level0_col0\" class=\"col_heading level0 col0\" >Model</th>\n",
              "      <th id=\"T_5c862_level0_col1\" class=\"col_heading level0 col1\" >Accuracy</th>\n",
              "      <th id=\"T_5c862_level0_col2\" class=\"col_heading level0 col2\" >AUC</th>\n",
              "      <th id=\"T_5c862_level0_col3\" class=\"col_heading level0 col3\" >Recall</th>\n",
              "      <th id=\"T_5c862_level0_col4\" class=\"col_heading level0 col4\" >Prec.</th>\n",
              "      <th id=\"T_5c862_level0_col5\" class=\"col_heading level0 col5\" >F1</th>\n",
              "      <th id=\"T_5c862_level0_col6\" class=\"col_heading level0 col6\" >Kappa</th>\n",
              "      <th id=\"T_5c862_level0_col7\" class=\"col_heading level0 col7\" >MCC</th>\n",
              "      <th id=\"T_5c862_level0_col8\" class=\"col_heading level0 col8\" >TT (Sec)</th>\n",
              "    </tr>\n",
              "  </thead>\n",
              "  <tbody>\n",
              "    <tr>\n",
              "      <th id=\"T_5c862_level0_row0\" class=\"row_heading level0 row0\" >ada</th>\n",
              "      <td id=\"T_5c862_row0_col0\" class=\"data row0 col0\" >Ada Boost Classifier</td>\n",
              "      <td id=\"T_5c862_row0_col1\" class=\"data row0 col1\" >0.9593</td>\n",
              "      <td id=\"T_5c862_row0_col2\" class=\"data row0 col2\" >0.9841</td>\n",
              "      <td id=\"T_5c862_row0_col3\" class=\"data row0 col3\" >0.9250</td>\n",
              "      <td id=\"T_5c862_row0_col4\" class=\"data row0 col4\" >0.9673</td>\n",
              "      <td id=\"T_5c862_row0_col5\" class=\"data row0 col5\" >0.9437</td>\n",
              "      <td id=\"T_5c862_row0_col6\" class=\"data row0 col6\" >0.9119</td>\n",
              "      <td id=\"T_5c862_row0_col7\" class=\"data row0 col7\" >0.9146</td>\n",
              "      <td id=\"T_5c862_row0_col8\" class=\"data row0 col8\" >0.1630</td>\n",
              "    </tr>\n",
              "    <tr>\n",
              "      <th id=\"T_5c862_level0_row1\" class=\"row_heading level0 row1\" >gbc</th>\n",
              "      <td id=\"T_5c862_row1_col0\" class=\"data row1 col0\" >Gradient Boosting Classifier</td>\n",
              "      <td id=\"T_5c862_row1_col1\" class=\"data row1 col1\" >0.9593</td>\n",
              "      <td id=\"T_5c862_row1_col2\" class=\"data row1 col2\" >0.9924</td>\n",
              "      <td id=\"T_5c862_row1_col3\" class=\"data row1 col3\" >0.9417</td>\n",
              "      <td id=\"T_5c862_row1_col4\" class=\"data row1 col4\" >0.9548</td>\n",
              "      <td id=\"T_5c862_row1_col5\" class=\"data row1 col5\" >0.9458</td>\n",
              "      <td id=\"T_5c862_row1_col6\" class=\"data row1 col6\" >0.9133</td>\n",
              "      <td id=\"T_5c862_row1_col7\" class=\"data row1 col7\" >0.9162</td>\n",
              "      <td id=\"T_5c862_row1_col8\" class=\"data row1 col8\" >0.4050</td>\n",
              "    </tr>\n",
              "    <tr>\n",
              "      <th id=\"T_5c862_level0_row2\" class=\"row_heading level0 row2\" >et</th>\n",
              "      <td id=\"T_5c862_row2_col0\" class=\"data row2 col0\" >Extra Trees Classifier</td>\n",
              "      <td id=\"T_5c862_row2_col1\" class=\"data row2 col1\" >0.9593</td>\n",
              "      <td id=\"T_5c862_row2_col2\" class=\"data row2 col2\" >0.9919</td>\n",
              "      <td id=\"T_5c862_row2_col3\" class=\"data row2 col3\" >0.9333</td>\n",
              "      <td id=\"T_5c862_row2_col4\" class=\"data row2 col4\" >0.9620</td>\n",
              "      <td id=\"T_5c862_row2_col5\" class=\"data row2 col5\" >0.9446</td>\n",
              "      <td id=\"T_5c862_row2_col6\" class=\"data row2 col6\" >0.9126</td>\n",
              "      <td id=\"T_5c862_row2_col7\" class=\"data row2 col7\" >0.9159</td>\n",
              "      <td id=\"T_5c862_row2_col8\" class=\"data row2 col8\" >0.1880</td>\n",
              "    </tr>\n",
              "    <tr>\n",
              "      <th id=\"T_5c862_level0_row3\" class=\"row_heading level0 row3\" >xgboost</th>\n",
              "      <td id=\"T_5c862_row3_col0\" class=\"data row3 col0\" >Extreme Gradient Boosting</td>\n",
              "      <td id=\"T_5c862_row3_col1\" class=\"data row3 col1\" >0.9560</td>\n",
              "      <td id=\"T_5c862_row3_col2\" class=\"data row3 col2\" >0.9912</td>\n",
              "      <td id=\"T_5c862_row3_col3\" class=\"data row3 col3\" >0.9167</td>\n",
              "      <td id=\"T_5c862_row3_col4\" class=\"data row3 col4\" >0.9664</td>\n",
              "      <td id=\"T_5c862_row3_col5\" class=\"data row3 col5\" >0.9382</td>\n",
              "      <td id=\"T_5c862_row3_col6\" class=\"data row3 col6\" >0.9043</td>\n",
              "      <td id=\"T_5c862_row3_col7\" class=\"data row3 col7\" >0.9080</td>\n",
              "      <td id=\"T_5c862_row3_col8\" class=\"data row3 col8\" >0.1040</td>\n",
              "    </tr>\n",
              "    <tr>\n",
              "      <th id=\"T_5c862_level0_row4\" class=\"row_heading level0 row4\" >lightgbm</th>\n",
              "      <td id=\"T_5c862_row4_col0\" class=\"data row4 col0\" >Light Gradient Boosting Machine</td>\n",
              "      <td id=\"T_5c862_row4_col1\" class=\"data row4 col1\" >0.9530</td>\n",
              "      <td id=\"T_5c862_row4_col2\" class=\"data row4 col2\" >0.9895</td>\n",
              "      <td id=\"T_5c862_row4_col3\" class=\"data row4 col3\" >0.9250</td>\n",
              "      <td id=\"T_5c862_row4_col4\" class=\"data row4 col4\" >0.9509</td>\n",
              "      <td id=\"T_5c862_row4_col5\" class=\"data row4 col5\" >0.9361</td>\n",
              "      <td id=\"T_5c862_row4_col6\" class=\"data row4 col6\" >0.8991</td>\n",
              "      <td id=\"T_5c862_row4_col7\" class=\"data row4 col7\" >0.9012</td>\n",
              "      <td id=\"T_5c862_row4_col8\" class=\"data row4 col8\" >1.3900</td>\n",
              "    </tr>\n",
              "    <tr>\n",
              "      <th id=\"T_5c862_level0_row5\" class=\"row_heading level0 row5\" >qda</th>\n",
              "      <td id=\"T_5c862_row5_col0\" class=\"data row5 col0\" >Quadratic Discriminant Analysis</td>\n",
              "      <td id=\"T_5c862_row5_col1\" class=\"data row5 col1\" >0.9468</td>\n",
              "      <td id=\"T_5c862_row5_col2\" class=\"data row5 col2\" >0.9824</td>\n",
              "      <td id=\"T_5c862_row5_col3\" class=\"data row5 col3\" >0.9417</td>\n",
              "      <td id=\"T_5c862_row5_col4\" class=\"data row5 col4\" >0.9246</td>\n",
              "      <td id=\"T_5c862_row5_col5\" class=\"data row5 col5\" >0.9312</td>\n",
              "      <td id=\"T_5c862_row5_col6\" class=\"data row5 col6\" >0.8879</td>\n",
              "      <td id=\"T_5c862_row5_col7\" class=\"data row5 col7\" >0.8904</td>\n",
              "      <td id=\"T_5c862_row5_col8\" class=\"data row5 col8\" >0.0340</td>\n",
              "    </tr>\n",
              "    <tr>\n",
              "      <th id=\"T_5c862_level0_row6\" class=\"row_heading level0 row6\" >lda</th>\n",
              "      <td id=\"T_5c862_row6_col0\" class=\"data row6 col0\" >Linear Discriminant Analysis</td>\n",
              "      <td id=\"T_5c862_row6_col1\" class=\"data row6 col1\" >0.9436</td>\n",
              "      <td id=\"T_5c862_row6_col2\" class=\"data row6 col2\" >0.9938</td>\n",
              "      <td id=\"T_5c862_row6_col3\" class=\"data row6 col3\" >0.8667</td>\n",
              "      <td id=\"T_5c862_row6_col4\" class=\"data row6 col4\" >0.9798</td>\n",
              "      <td id=\"T_5c862_row6_col5\" class=\"data row6 col5\" >0.9176</td>\n",
              "      <td id=\"T_5c862_row6_col6\" class=\"data row6 col6\" >0.8755</td>\n",
              "      <td id=\"T_5c862_row6_col7\" class=\"data row6 col7\" >0.8813</td>\n",
              "      <td id=\"T_5c862_row6_col8\" class=\"data row6 col8\" >0.0580</td>\n",
              "    </tr>\n",
              "    <tr>\n",
              "      <th id=\"T_5c862_level0_row7\" class=\"row_heading level0 row7\" >rf</th>\n",
              "      <td id=\"T_5c862_row7_col0\" class=\"data row7 col0\" >Random Forest Classifier</td>\n",
              "      <td id=\"T_5c862_row7_col1\" class=\"data row7 col1\" >0.9435</td>\n",
              "      <td id=\"T_5c862_row7_col2\" class=\"data row7 col2\" >0.9845</td>\n",
              "      <td id=\"T_5c862_row7_col3\" class=\"data row7 col3\" >0.9250</td>\n",
              "      <td id=\"T_5c862_row7_col4\" class=\"data row7 col4\" >0.9284</td>\n",
              "      <td id=\"T_5c862_row7_col5\" class=\"data row7 col5\" >0.9244</td>\n",
              "      <td id=\"T_5c862_row7_col6\" class=\"data row7 col6\" >0.8795</td>\n",
              "      <td id=\"T_5c862_row7_col7\" class=\"data row7 col7\" >0.8822</td>\n",
              "      <td id=\"T_5c862_row7_col8\" class=\"data row7 col8\" >0.2250</td>\n",
              "    </tr>\n",
              "    <tr>\n",
              "      <th id=\"T_5c862_level0_row8\" class=\"row_heading level0 row8\" >ridge</th>\n",
              "      <td id=\"T_5c862_row8_col0\" class=\"data row8 col0\" >Ridge Classifier</td>\n",
              "      <td id=\"T_5c862_row8_col1\" class=\"data row8 col1\" >0.9405</td>\n",
              "      <td id=\"T_5c862_row8_col2\" class=\"data row8 col2\" >0.9937</td>\n",
              "      <td id=\"T_5c862_row8_col3\" class=\"data row8 col3\" >0.8667</td>\n",
              "      <td id=\"T_5c862_row8_col4\" class=\"data row8 col4\" >0.9715</td>\n",
              "      <td id=\"T_5c862_row8_col5\" class=\"data row8 col5\" >0.9127</td>\n",
              "      <td id=\"T_5c862_row8_col6\" class=\"data row8 col6\" >0.8684</td>\n",
              "      <td id=\"T_5c862_row8_col7\" class=\"data row8 col7\" >0.8747</td>\n",
              "      <td id=\"T_5c862_row8_col8\" class=\"data row8 col8\" >0.0340</td>\n",
              "    </tr>\n",
              "    <tr>\n",
              "      <th id=\"T_5c862_level0_row9\" class=\"row_heading level0 row9\" >dt</th>\n",
              "      <td id=\"T_5c862_row9_col0\" class=\"data row9 col0\" >Decision Tree Classifier</td>\n",
              "      <td id=\"T_5c862_row9_col1\" class=\"data row9 col1\" >0.9216</td>\n",
              "      <td id=\"T_5c862_row9_col2\" class=\"data row9 col2\" >0.9158</td>\n",
              "      <td id=\"T_5c862_row9_col3\" class=\"data row9 col3\" >0.8917</td>\n",
              "      <td id=\"T_5c862_row9_col4\" class=\"data row9 col4\" >0.9039</td>\n",
              "      <td id=\"T_5c862_row9_col5\" class=\"data row9 col5\" >0.8942</td>\n",
              "      <td id=\"T_5c862_row9_col6\" class=\"data row9 col6\" >0.8321</td>\n",
              "      <td id=\"T_5c862_row9_col7\" class=\"data row9 col7\" >0.8362</td>\n",
              "      <td id=\"T_5c862_row9_col8\" class=\"data row9 col8\" >0.0460</td>\n",
              "    </tr>\n",
              "    <tr>\n",
              "      <th id=\"T_5c862_level0_row10\" class=\"row_heading level0 row10\" >lr</th>\n",
              "      <td id=\"T_5c862_row10_col0\" class=\"data row10 col0\" >Logistic Regression</td>\n",
              "      <td id=\"T_5c862_row10_col1\" class=\"data row10 col1\" >0.9027</td>\n",
              "      <td id=\"T_5c862_row10_col2\" class=\"data row10 col2\" >0.9674</td>\n",
              "      <td id=\"T_5c862_row10_col3\" class=\"data row10 col3\" >0.8250</td>\n",
              "      <td id=\"T_5c862_row10_col4\" class=\"data row10 col4\" >0.9105</td>\n",
              "      <td id=\"T_5c862_row10_col5\" class=\"data row10 col5\" >0.8629</td>\n",
              "      <td id=\"T_5c862_row10_col6\" class=\"data row10 col6\" >0.7881</td>\n",
              "      <td id=\"T_5c862_row10_col7\" class=\"data row10 col7\" >0.7930</td>\n",
              "      <td id=\"T_5c862_row10_col8\" class=\"data row10 col8\" >0.6210</td>\n",
              "    </tr>\n",
              "    <tr>\n",
              "      <th id=\"T_5c862_level0_row11\" class=\"row_heading level0 row11\" >knn</th>\n",
              "      <td id=\"T_5c862_row11_col0\" class=\"data row11 col0\" >K Neighbors Classifier</td>\n",
              "      <td id=\"T_5c862_row11_col1\" class=\"data row11 col1\" >0.6951</td>\n",
              "      <td id=\"T_5c862_row11_col2\" class=\"data row11 col2\" >0.7367</td>\n",
              "      <td id=\"T_5c862_row11_col3\" class=\"data row11 col3\" >0.4417</td>\n",
              "      <td id=\"T_5c862_row11_col4\" class=\"data row11 col4\" >0.6406</td>\n",
              "      <td id=\"T_5c862_row11_col5\" class=\"data row11 col5\" >0.5162</td>\n",
              "      <td id=\"T_5c862_row11_col6\" class=\"data row11 col6\" >0.3074</td>\n",
              "      <td id=\"T_5c862_row11_col7\" class=\"data row11 col7\" >0.3212</td>\n",
              "      <td id=\"T_5c862_row11_col8\" class=\"data row11 col8\" >0.0640</td>\n",
              "    </tr>\n",
              "    <tr>\n",
              "      <th id=\"T_5c862_level0_row12\" class=\"row_heading level0 row12\" >nb</th>\n",
              "      <td id=\"T_5c862_row12_col0\" class=\"data row12 col0\" >Naive Bayes</td>\n",
              "      <td id=\"T_5c862_row12_col1\" class=\"data row12 col1\" >0.6351</td>\n",
              "      <td id=\"T_5c862_row12_col2\" class=\"data row12 col2\" >0.8747</td>\n",
              "      <td id=\"T_5c862_row12_col3\" class=\"data row12 col3\" >0.0583</td>\n",
              "      <td id=\"T_5c862_row12_col4\" class=\"data row12 col4\" >0.4500</td>\n",
              "      <td id=\"T_5c862_row12_col5\" class=\"data row12 col5\" >0.0949</td>\n",
              "      <td id=\"T_5c862_row12_col6\" class=\"data row12 col6\" >0.0519</td>\n",
              "      <td id=\"T_5c862_row12_col7\" class=\"data row12 col7\" >0.1052</td>\n",
              "      <td id=\"T_5c862_row12_col8\" class=\"data row12 col8\" >0.0370</td>\n",
              "    </tr>\n",
              "    <tr>\n",
              "      <th id=\"T_5c862_level0_row13\" class=\"row_heading level0 row13\" >dummy</th>\n",
              "      <td id=\"T_5c862_row13_col0\" class=\"data row13 col0\" >Dummy Classifier</td>\n",
              "      <td id=\"T_5c862_row13_col1\" class=\"data row13 col1\" >0.6226</td>\n",
              "      <td id=\"T_5c862_row13_col2\" class=\"data row13 col2\" >0.5000</td>\n",
              "      <td id=\"T_5c862_row13_col3\" class=\"data row13 col3\" >0.0000</td>\n",
              "      <td id=\"T_5c862_row13_col4\" class=\"data row13 col4\" >0.0000</td>\n",
              "      <td id=\"T_5c862_row13_col5\" class=\"data row13 col5\" >0.0000</td>\n",
              "      <td id=\"T_5c862_row13_col6\" class=\"data row13 col6\" >0.0000</td>\n",
              "      <td id=\"T_5c862_row13_col7\" class=\"data row13 col7\" >0.0000</td>\n",
              "      <td id=\"T_5c862_row13_col8\" class=\"data row13 col8\" >0.0320</td>\n",
              "    </tr>\n",
              "    <tr>\n",
              "      <th id=\"T_5c862_level0_row14\" class=\"row_heading level0 row14\" >svm</th>\n",
              "      <td id=\"T_5c862_row14_col0\" class=\"data row14 col0\" >SVM - Linear Kernel</td>\n",
              "      <td id=\"T_5c862_row14_col1\" class=\"data row14 col1\" >0.5000</td>\n",
              "      <td id=\"T_5c862_row14_col2\" class=\"data row14 col2\" >0.4528</td>\n",
              "      <td id=\"T_5c862_row14_col3\" class=\"data row14 col3\" >0.5000</td>\n",
              "      <td id=\"T_5c862_row14_col4\" class=\"data row14 col4\" >0.1887</td>\n",
              "      <td id=\"T_5c862_row14_col5\" class=\"data row14 col5\" >0.2740</td>\n",
              "      <td id=\"T_5c862_row14_col6\" class=\"data row14 col6\" >0.0000</td>\n",
              "      <td id=\"T_5c862_row14_col7\" class=\"data row14 col7\" >0.0000</td>\n",
              "      <td id=\"T_5c862_row14_col8\" class=\"data row14 col8\" >0.0330</td>\n",
              "    </tr>\n",
              "  </tbody>\n",
              "</table>\n"
            ]
          },
          "metadata": {}
        },
        {
          "output_type": "display_data",
          "data": {
            "text/plain": [
              "Processing:   0%|          | 0/65 [00:00<?, ?it/s]"
            ],
            "application/vnd.jupyter.widget-view+json": {
              "version_major": 2,
              "version_minor": 0,
              "model_id": "f01fd88ab0c5444095d2d4aa7320551d"
            }
          },
          "metadata": {
            "application/vnd.jupyter.widget-view+json": {
              "colab": {
                "custom_widget_manager": {
                  "url": "https://ssl.gstatic.com/colaboratory-static/widgets/colab-cdn-widget-manager/2b70e893a8ba7c0f/manager.min.js"
                }
              }
            }
          }
        },
        {
          "output_type": "display_data",
          "data": {
            "text/plain": [
              "<IPython.core.display.HTML object>"
            ],
            "text/html": []
          },
          "metadata": {}
        }
      ]
    },
    {
      "cell_type": "code",
      "source": [
        "tuned_model = tune_model(best_model)"
      ],
      "metadata": {
        "colab": {
          "base_uri": "https://localhost:8080/",
          "height": 474,
          "referenced_widgets": [
            "ace64d30c4cc4489a9cdc44a0ec1ff91",
            "ea24bc5cb28540bc8c5c1ba8402d15f0",
            "054d89859da74599980eaf73210d18ca",
            "10719532864b46e79ab6bfe10ba13c7a",
            "aa213393ed8d42a5871fe0005faf6f60",
            "d182c4b2fbfd4a3789124487af36f8bc",
            "d0b7c6135bbd47eba1e7f104b0098715",
            "bef1fb8de9be410a880a61d177f15d32",
            "81af073977fe455690fae34c842af66c",
            "addab88f354042c684d22a81a405a1a7",
            "e140a2962481424f87c477f824246ed0"
          ]
        },
        "id": "TOUVDEq-yCy_",
        "outputId": "e8d90c6f-633b-49ec-e844-f3f679dd8a63"
      },
      "execution_count": null,
      "outputs": [
        {
          "output_type": "display_data",
          "data": {
            "text/plain": [
              "<IPython.core.display.HTML object>"
            ],
            "text/html": []
          },
          "metadata": {}
        },
        {
          "output_type": "display_data",
          "data": {
            "text/plain": [
              "<pandas.io.formats.style.Styler at 0x7dc78d36c970>"
            ],
            "text/html": [
              "<style type=\"text/css\">\n",
              "#T_5ef4c_row10_col0, #T_5ef4c_row10_col1, #T_5ef4c_row10_col2, #T_5ef4c_row10_col3, #T_5ef4c_row10_col4, #T_5ef4c_row10_col5, #T_5ef4c_row10_col6 {\n",
              "  background: yellow;\n",
              "}\n",
              "</style>\n",
              "<table id=\"T_5ef4c\" class=\"dataframe\">\n",
              "  <thead>\n",
              "    <tr>\n",
              "      <th class=\"blank level0\" >&nbsp;</th>\n",
              "      <th id=\"T_5ef4c_level0_col0\" class=\"col_heading level0 col0\" >Accuracy</th>\n",
              "      <th id=\"T_5ef4c_level0_col1\" class=\"col_heading level0 col1\" >AUC</th>\n",
              "      <th id=\"T_5ef4c_level0_col2\" class=\"col_heading level0 col2\" >Recall</th>\n",
              "      <th id=\"T_5ef4c_level0_col3\" class=\"col_heading level0 col3\" >Prec.</th>\n",
              "      <th id=\"T_5ef4c_level0_col4\" class=\"col_heading level0 col4\" >F1</th>\n",
              "      <th id=\"T_5ef4c_level0_col5\" class=\"col_heading level0 col5\" >Kappa</th>\n",
              "      <th id=\"T_5ef4c_level0_col6\" class=\"col_heading level0 col6\" >MCC</th>\n",
              "    </tr>\n",
              "    <tr>\n",
              "      <th class=\"index_name level0\" >Fold</th>\n",
              "      <th class=\"blank col0\" >&nbsp;</th>\n",
              "      <th class=\"blank col1\" >&nbsp;</th>\n",
              "      <th class=\"blank col2\" >&nbsp;</th>\n",
              "      <th class=\"blank col3\" >&nbsp;</th>\n",
              "      <th class=\"blank col4\" >&nbsp;</th>\n",
              "      <th class=\"blank col5\" >&nbsp;</th>\n",
              "      <th class=\"blank col6\" >&nbsp;</th>\n",
              "    </tr>\n",
              "  </thead>\n",
              "  <tbody>\n",
              "    <tr>\n",
              "      <th id=\"T_5ef4c_level0_row0\" class=\"row_heading level0 row0\" >0</th>\n",
              "      <td id=\"T_5ef4c_row0_col0\" class=\"data row0 col0\" >0.9688</td>\n",
              "      <td id=\"T_5ef4c_row0_col1\" class=\"data row0 col1\" >0.9958</td>\n",
              "      <td id=\"T_5ef4c_row0_col2\" class=\"data row0 col2\" >0.9167</td>\n",
              "      <td id=\"T_5ef4c_row0_col3\" class=\"data row0 col3\" >1.0000</td>\n",
              "      <td id=\"T_5ef4c_row0_col4\" class=\"data row0 col4\" >0.9565</td>\n",
              "      <td id=\"T_5ef4c_row0_col5\" class=\"data row0 col5\" >0.9322</td>\n",
              "      <td id=\"T_5ef4c_row0_col6\" class=\"data row0 col6\" >0.9344</td>\n",
              "    </tr>\n",
              "    <tr>\n",
              "      <th id=\"T_5ef4c_level0_row1\" class=\"row_heading level0 row1\" >1</th>\n",
              "      <td id=\"T_5ef4c_row1_col0\" class=\"data row1 col0\" >1.0000</td>\n",
              "      <td id=\"T_5ef4c_row1_col1\" class=\"data row1 col1\" >1.0000</td>\n",
              "      <td id=\"T_5ef4c_row1_col2\" class=\"data row1 col2\" >1.0000</td>\n",
              "      <td id=\"T_5ef4c_row1_col3\" class=\"data row1 col3\" >1.0000</td>\n",
              "      <td id=\"T_5ef4c_row1_col4\" class=\"data row1 col4\" >1.0000</td>\n",
              "      <td id=\"T_5ef4c_row1_col5\" class=\"data row1 col5\" >1.0000</td>\n",
              "      <td id=\"T_5ef4c_row1_col6\" class=\"data row1 col6\" >1.0000</td>\n",
              "    </tr>\n",
              "    <tr>\n",
              "      <th id=\"T_5ef4c_level0_row2\" class=\"row_heading level0 row2\" >2</th>\n",
              "      <td id=\"T_5ef4c_row2_col0\" class=\"data row2 col0\" >0.9688</td>\n",
              "      <td id=\"T_5ef4c_row2_col1\" class=\"data row2 col1\" >1.0000</td>\n",
              "      <td id=\"T_5ef4c_row2_col2\" class=\"data row2 col2\" >0.9167</td>\n",
              "      <td id=\"T_5ef4c_row2_col3\" class=\"data row2 col3\" >1.0000</td>\n",
              "      <td id=\"T_5ef4c_row2_col4\" class=\"data row2 col4\" >0.9565</td>\n",
              "      <td id=\"T_5ef4c_row2_col5\" class=\"data row2 col5\" >0.9322</td>\n",
              "      <td id=\"T_5ef4c_row2_col6\" class=\"data row2 col6\" >0.9344</td>\n",
              "    </tr>\n",
              "    <tr>\n",
              "      <th id=\"T_5ef4c_level0_row3\" class=\"row_heading level0 row3\" >3</th>\n",
              "      <td id=\"T_5ef4c_row3_col0\" class=\"data row3 col0\" >0.9688</td>\n",
              "      <td id=\"T_5ef4c_row3_col1\" class=\"data row3 col1\" >0.9792</td>\n",
              "      <td id=\"T_5ef4c_row3_col2\" class=\"data row3 col2\" >0.9167</td>\n",
              "      <td id=\"T_5ef4c_row3_col3\" class=\"data row3 col3\" >1.0000</td>\n",
              "      <td id=\"T_5ef4c_row3_col4\" class=\"data row3 col4\" >0.9565</td>\n",
              "      <td id=\"T_5ef4c_row3_col5\" class=\"data row3 col5\" >0.9322</td>\n",
              "      <td id=\"T_5ef4c_row3_col6\" class=\"data row3 col6\" >0.9344</td>\n",
              "    </tr>\n",
              "    <tr>\n",
              "      <th id=\"T_5ef4c_level0_row4\" class=\"row_heading level0 row4\" >4</th>\n",
              "      <td id=\"T_5ef4c_row4_col0\" class=\"data row4 col0\" >0.9688</td>\n",
              "      <td id=\"T_5ef4c_row4_col1\" class=\"data row4 col1\" >0.9917</td>\n",
              "      <td id=\"T_5ef4c_row4_col2\" class=\"data row4 col2\" >0.9167</td>\n",
              "      <td id=\"T_5ef4c_row4_col3\" class=\"data row4 col3\" >1.0000</td>\n",
              "      <td id=\"T_5ef4c_row4_col4\" class=\"data row4 col4\" >0.9565</td>\n",
              "      <td id=\"T_5ef4c_row4_col5\" class=\"data row4 col5\" >0.9322</td>\n",
              "      <td id=\"T_5ef4c_row4_col6\" class=\"data row4 col6\" >0.9344</td>\n",
              "    </tr>\n",
              "    <tr>\n",
              "      <th id=\"T_5ef4c_level0_row5\" class=\"row_heading level0 row5\" >5</th>\n",
              "      <td id=\"T_5ef4c_row5_col0\" class=\"data row5 col0\" >1.0000</td>\n",
              "      <td id=\"T_5ef4c_row5_col1\" class=\"data row5 col1\" >1.0000</td>\n",
              "      <td id=\"T_5ef4c_row5_col2\" class=\"data row5 col2\" >1.0000</td>\n",
              "      <td id=\"T_5ef4c_row5_col3\" class=\"data row5 col3\" >1.0000</td>\n",
              "      <td id=\"T_5ef4c_row5_col4\" class=\"data row5 col4\" >1.0000</td>\n",
              "      <td id=\"T_5ef4c_row5_col5\" class=\"data row5 col5\" >1.0000</td>\n",
              "      <td id=\"T_5ef4c_row5_col6\" class=\"data row5 col6\" >1.0000</td>\n",
              "    </tr>\n",
              "    <tr>\n",
              "      <th id=\"T_5ef4c_level0_row6\" class=\"row_heading level0 row6\" >6</th>\n",
              "      <td id=\"T_5ef4c_row6_col0\" class=\"data row6 col0\" >0.9375</td>\n",
              "      <td id=\"T_5ef4c_row6_col1\" class=\"data row6 col1\" >0.9792</td>\n",
              "      <td id=\"T_5ef4c_row6_col2\" class=\"data row6 col2\" >0.8333</td>\n",
              "      <td id=\"T_5ef4c_row6_col3\" class=\"data row6 col3\" >1.0000</td>\n",
              "      <td id=\"T_5ef4c_row6_col4\" class=\"data row6 col4\" >0.9091</td>\n",
              "      <td id=\"T_5ef4c_row6_col5\" class=\"data row6 col5\" >0.8621</td>\n",
              "      <td id=\"T_5ef4c_row6_col6\" class=\"data row6 col6\" >0.8704</td>\n",
              "    </tr>\n",
              "    <tr>\n",
              "      <th id=\"T_5ef4c_level0_row7\" class=\"row_heading level0 row7\" >7</th>\n",
              "      <td id=\"T_5ef4c_row7_col0\" class=\"data row7 col0\" >0.9688</td>\n",
              "      <td id=\"T_5ef4c_row7_col1\" class=\"data row7 col1\" >1.0000</td>\n",
              "      <td id=\"T_5ef4c_row7_col2\" class=\"data row7 col2\" >1.0000</td>\n",
              "      <td id=\"T_5ef4c_row7_col3\" class=\"data row7 col3\" >0.9231</td>\n",
              "      <td id=\"T_5ef4c_row7_col4\" class=\"data row7 col4\" >0.9600</td>\n",
              "      <td id=\"T_5ef4c_row7_col5\" class=\"data row7 col5\" >0.9344</td>\n",
              "      <td id=\"T_5ef4c_row7_col6\" class=\"data row7 col6\" >0.9364</td>\n",
              "    </tr>\n",
              "    <tr>\n",
              "      <th id=\"T_5ef4c_level0_row8\" class=\"row_heading level0 row8\" >8</th>\n",
              "      <td id=\"T_5ef4c_row8_col0\" class=\"data row8 col0\" >0.9677</td>\n",
              "      <td id=\"T_5ef4c_row8_col1\" class=\"data row8 col1\" >0.9956</td>\n",
              "      <td id=\"T_5ef4c_row8_col2\" class=\"data row8 col2\" >0.9167</td>\n",
              "      <td id=\"T_5ef4c_row8_col3\" class=\"data row8 col3\" >1.0000</td>\n",
              "      <td id=\"T_5ef4c_row8_col4\" class=\"data row8 col4\" >0.9565</td>\n",
              "      <td id=\"T_5ef4c_row8_col5\" class=\"data row8 col5\" >0.9310</td>\n",
              "      <td id=\"T_5ef4c_row8_col6\" class=\"data row8 col6\" >0.9332</td>\n",
              "    </tr>\n",
              "    <tr>\n",
              "      <th id=\"T_5ef4c_level0_row9\" class=\"row_heading level0 row9\" >9</th>\n",
              "      <td id=\"T_5ef4c_row9_col0\" class=\"data row9 col0\" >1.0000</td>\n",
              "      <td id=\"T_5ef4c_row9_col1\" class=\"data row9 col1\" >1.0000</td>\n",
              "      <td id=\"T_5ef4c_row9_col2\" class=\"data row9 col2\" >1.0000</td>\n",
              "      <td id=\"T_5ef4c_row9_col3\" class=\"data row9 col3\" >1.0000</td>\n",
              "      <td id=\"T_5ef4c_row9_col4\" class=\"data row9 col4\" >1.0000</td>\n",
              "      <td id=\"T_5ef4c_row9_col5\" class=\"data row9 col5\" >1.0000</td>\n",
              "      <td id=\"T_5ef4c_row9_col6\" class=\"data row9 col6\" >1.0000</td>\n",
              "    </tr>\n",
              "    <tr>\n",
              "      <th id=\"T_5ef4c_level0_row10\" class=\"row_heading level0 row10\" >Mean</th>\n",
              "      <td id=\"T_5ef4c_row10_col0\" class=\"data row10 col0\" >0.9749</td>\n",
              "      <td id=\"T_5ef4c_row10_col1\" class=\"data row10 col1\" >0.9941</td>\n",
              "      <td id=\"T_5ef4c_row10_col2\" class=\"data row10 col2\" >0.9417</td>\n",
              "      <td id=\"T_5ef4c_row10_col3\" class=\"data row10 col3\" >0.9923</td>\n",
              "      <td id=\"T_5ef4c_row10_col4\" class=\"data row10 col4\" >0.9652</td>\n",
              "      <td id=\"T_5ef4c_row10_col5\" class=\"data row10 col5\" >0.9456</td>\n",
              "      <td id=\"T_5ef4c_row10_col6\" class=\"data row10 col6\" >0.9477</td>\n",
              "    </tr>\n",
              "    <tr>\n",
              "      <th id=\"T_5ef4c_level0_row11\" class=\"row_heading level0 row11\" >Std</th>\n",
              "      <td id=\"T_5ef4c_row11_col0\" class=\"data row11 col0\" >0.0188</td>\n",
              "      <td id=\"T_5ef4c_row11_col1\" class=\"data row11 col1\" >0.0079</td>\n",
              "      <td id=\"T_5ef4c_row11_col2\" class=\"data row11 col2\" >0.0534</td>\n",
              "      <td id=\"T_5ef4c_row11_col3\" class=\"data row11 col3\" >0.0231</td>\n",
              "      <td id=\"T_5ef4c_row11_col4\" class=\"data row11 col4\" >0.0268</td>\n",
              "      <td id=\"T_5ef4c_row11_col5\" class=\"data row11 col5\" >0.0411</td>\n",
              "      <td id=\"T_5ef4c_row11_col6\" class=\"data row11 col6\" >0.0390</td>\n",
              "    </tr>\n",
              "  </tbody>\n",
              "</table>\n"
            ]
          },
          "metadata": {}
        },
        {
          "output_type": "display_data",
          "data": {
            "text/plain": [
              "Processing:   0%|          | 0/7 [00:00<?, ?it/s]"
            ],
            "application/vnd.jupyter.widget-view+json": {
              "version_major": 2,
              "version_minor": 0,
              "model_id": "ace64d30c4cc4489a9cdc44a0ec1ff91"
            }
          },
          "metadata": {
            "application/vnd.jupyter.widget-view+json": {
              "colab": {
                "custom_widget_manager": {
                  "url": "https://ssl.gstatic.com/colaboratory-static/widgets/colab-cdn-widget-manager/2b70e893a8ba7c0f/manager.min.js"
                }
              }
            }
          }
        },
        {
          "output_type": "stream",
          "name": "stdout",
          "text": [
            "Fitting 10 folds for each of 10 candidates, totalling 100 fits\n"
          ]
        },
        {
          "output_type": "display_data",
          "data": {
            "text/plain": [
              "<IPython.core.display.HTML object>"
            ],
            "text/html": []
          },
          "metadata": {}
        }
      ]
    },
    {
      "cell_type": "code",
      "source": [
        "evaluate_model(tuned_model)"
      ],
      "metadata": {
        "colab": {
          "base_uri": "https://localhost:8080/",
          "height": 216,
          "referenced_widgets": [
            "1c97acd8c9df4935bacf54150d537a2e",
            "11b4a9ae73214cb49df40ea7d69d8383",
            "b9d9b95e866144db9267c08252a7b2c3",
            "cd5e9f193c6945348cd4edcd81ca8391",
            "2aa7144b50034c3cbe2b38ba4993b828",
            "50aac73bde494866aff46e447f8cfd22",
            "ff0d214fc2be4a5f8f71e799ae76d6e1"
          ]
        },
        "id": "n2Kf9bHvyXS_",
        "outputId": "25194bef-cfac-4ac5-d941-3645c081354b"
      },
      "execution_count": null,
      "outputs": [
        {
          "output_type": "display_data",
          "data": {
            "text/plain": [
              "interactive(children=(ToggleButtons(description='Plot Type:', icons=('',), options=(('Pipeline Plot', 'pipelin…"
            ],
            "application/vnd.jupyter.widget-view+json": {
              "version_major": 2,
              "version_minor": 0,
              "model_id": "1c97acd8c9df4935bacf54150d537a2e"
            }
          },
          "metadata": {
            "application/vnd.jupyter.widget-view+json": {
              "colab": {
                "custom_widget_manager": {
                  "url": "https://ssl.gstatic.com/colaboratory-static/widgets/colab-cdn-widget-manager/2b70e893a8ba7c0f/manager.min.js"
                }
              }
            }
          }
        }
      ]
    },
    {
      "cell_type": "code",
      "source": [
        "final_model = finalize_model(tuned_model)"
      ],
      "metadata": {
        "id": "uvl0AngcybhX"
      },
      "execution_count": null,
      "outputs": []
    },
    {
      "cell_type": "code",
      "source": [
        "predictions = predict_model(final_model, data=test_data)"
      ],
      "metadata": {
        "colab": {
          "base_uri": "https://localhost:8080/",
          "height": 81
        },
        "id": "8e5cpRMMykir",
        "outputId": "8f78359b-3fe6-486b-c6c4-9044f4778182"
      },
      "execution_count": null,
      "outputs": [
        {
          "output_type": "display_data",
          "data": {
            "text/plain": [
              "<pandas.io.formats.style.Styler at 0x7dc7a6744160>"
            ],
            "text/html": [
              "<style type=\"text/css\">\n",
              "</style>\n",
              "<table id=\"T_61d83\" class=\"dataframe\">\n",
              "  <thead>\n",
              "    <tr>\n",
              "      <th class=\"blank level0\" >&nbsp;</th>\n",
              "      <th id=\"T_61d83_level0_col0\" class=\"col_heading level0 col0\" >Model</th>\n",
              "      <th id=\"T_61d83_level0_col1\" class=\"col_heading level0 col1\" >Accuracy</th>\n",
              "      <th id=\"T_61d83_level0_col2\" class=\"col_heading level0 col2\" >AUC</th>\n",
              "      <th id=\"T_61d83_level0_col3\" class=\"col_heading level0 col3\" >Recall</th>\n",
              "      <th id=\"T_61d83_level0_col4\" class=\"col_heading level0 col4\" >Prec.</th>\n",
              "      <th id=\"T_61d83_level0_col5\" class=\"col_heading level0 col5\" >F1</th>\n",
              "      <th id=\"T_61d83_level0_col6\" class=\"col_heading level0 col6\" >Kappa</th>\n",
              "      <th id=\"T_61d83_level0_col7\" class=\"col_heading level0 col7\" >MCC</th>\n",
              "    </tr>\n",
              "  </thead>\n",
              "  <tbody>\n",
              "    <tr>\n",
              "      <th id=\"T_61d83_level0_row0\" class=\"row_heading level0 row0\" >0</th>\n",
              "      <td id=\"T_61d83_row0_col0\" class=\"data row0 col0\" >Ada Boost Classifier</td>\n",
              "      <td id=\"T_61d83_row0_col1\" class=\"data row0 col1\" >0.9737</td>\n",
              "      <td id=\"T_61d83_row0_col2\" class=\"data row0 col2\" >0.9906</td>\n",
              "      <td id=\"T_61d83_row0_col3\" class=\"data row0 col3\" >0.9512</td>\n",
              "      <td id=\"T_61d83_row0_col4\" class=\"data row0 col4\" >0.9750</td>\n",
              "      <td id=\"T_61d83_row0_col5\" class=\"data row0 col5\" >0.9630</td>\n",
              "      <td id=\"T_61d83_row0_col6\" class=\"data row0 col6\" >0.9426</td>\n",
              "      <td id=\"T_61d83_row0_col7\" class=\"data row0 col7\" >0.9427</td>\n",
              "    </tr>\n",
              "  </tbody>\n",
              "</table>\n"
            ]
          },
          "metadata": {}
        }
      ]
    },
    {
      "cell_type": "markdown",
      "source": [
        "## **Analisis y Resultados** 📊"
      ],
      "metadata": {
        "id": "27xqauPcaG2A"
      }
    },
    {
      "cell_type": "code",
      "source": [
        "X = data.iloc[:, 2:]\n",
        "y = data['Diagnosis']\n",
        "\n",
        "X_train, X_test, y_train, y_test = train_test_split(X, y, test_size=0.2, random_state=42)"
      ],
      "metadata": {
        "id": "12HSP-lcaOtR"
      },
      "execution_count": null,
      "outputs": []
    },
    {
      "cell_type": "markdown",
      "source": [
        "### **Regresion Logistica** 📈"
      ],
      "metadata": {
        "id": "6L7EvycsaM7g"
      }
    },
    {
      "cell_type": "code",
      "source": [
        "model = LogisticRegression(max_iter=10000)\n",
        "model.fit(X_train, y_train)"
      ],
      "metadata": {
        "colab": {
          "base_uri": "https://localhost:8080/",
          "height": 75
        },
        "id": "I6niBUxcbhhr",
        "outputId": "a2f6ecb7-80b8-4e81-dcde-70590c4dc73c"
      },
      "execution_count": null,
      "outputs": [
        {
          "output_type": "execute_result",
          "data": {
            "text/plain": [
              "LogisticRegression(max_iter=10000)"
            ],
            "text/html": [
              "<style>#sk-container-id-1 {color: black;background-color: white;}#sk-container-id-1 pre{padding: 0;}#sk-container-id-1 div.sk-toggleable {background-color: white;}#sk-container-id-1 label.sk-toggleable__label {cursor: pointer;display: block;width: 100%;margin-bottom: 0;padding: 0.3em;box-sizing: border-box;text-align: center;}#sk-container-id-1 label.sk-toggleable__label-arrow:before {content: \"▸\";float: left;margin-right: 0.25em;color: #696969;}#sk-container-id-1 label.sk-toggleable__label-arrow:hover:before {color: black;}#sk-container-id-1 div.sk-estimator:hover label.sk-toggleable__label-arrow:before {color: black;}#sk-container-id-1 div.sk-toggleable__content {max-height: 0;max-width: 0;overflow: hidden;text-align: left;background-color: #f0f8ff;}#sk-container-id-1 div.sk-toggleable__content pre {margin: 0.2em;color: black;border-radius: 0.25em;background-color: #f0f8ff;}#sk-container-id-1 input.sk-toggleable__control:checked~div.sk-toggleable__content {max-height: 200px;max-width: 100%;overflow: auto;}#sk-container-id-1 input.sk-toggleable__control:checked~label.sk-toggleable__label-arrow:before {content: \"▾\";}#sk-container-id-1 div.sk-estimator input.sk-toggleable__control:checked~label.sk-toggleable__label {background-color: #d4ebff;}#sk-container-id-1 div.sk-label input.sk-toggleable__control:checked~label.sk-toggleable__label {background-color: #d4ebff;}#sk-container-id-1 input.sk-hidden--visually {border: 0;clip: rect(1px 1px 1px 1px);clip: rect(1px, 1px, 1px, 1px);height: 1px;margin: -1px;overflow: hidden;padding: 0;position: absolute;width: 1px;}#sk-container-id-1 div.sk-estimator {font-family: monospace;background-color: #f0f8ff;border: 1px dotted black;border-radius: 0.25em;box-sizing: border-box;margin-bottom: 0.5em;}#sk-container-id-1 div.sk-estimator:hover {background-color: #d4ebff;}#sk-container-id-1 div.sk-parallel-item::after {content: \"\";width: 100%;border-bottom: 1px solid gray;flex-grow: 1;}#sk-container-id-1 div.sk-label:hover label.sk-toggleable__label {background-color: #d4ebff;}#sk-container-id-1 div.sk-serial::before {content: \"\";position: absolute;border-left: 1px solid gray;box-sizing: border-box;top: 0;bottom: 0;left: 50%;z-index: 0;}#sk-container-id-1 div.sk-serial {display: flex;flex-direction: column;align-items: center;background-color: white;padding-right: 0.2em;padding-left: 0.2em;position: relative;}#sk-container-id-1 div.sk-item {position: relative;z-index: 1;}#sk-container-id-1 div.sk-parallel {display: flex;align-items: stretch;justify-content: center;background-color: white;position: relative;}#sk-container-id-1 div.sk-item::before, #sk-container-id-1 div.sk-parallel-item::before {content: \"\";position: absolute;border-left: 1px solid gray;box-sizing: border-box;top: 0;bottom: 0;left: 50%;z-index: -1;}#sk-container-id-1 div.sk-parallel-item {display: flex;flex-direction: column;z-index: 1;position: relative;background-color: white;}#sk-container-id-1 div.sk-parallel-item:first-child::after {align-self: flex-end;width: 50%;}#sk-container-id-1 div.sk-parallel-item:last-child::after {align-self: flex-start;width: 50%;}#sk-container-id-1 div.sk-parallel-item:only-child::after {width: 0;}#sk-container-id-1 div.sk-dashed-wrapped {border: 1px dashed gray;margin: 0 0.4em 0.5em 0.4em;box-sizing: border-box;padding-bottom: 0.4em;background-color: white;}#sk-container-id-1 div.sk-label label {font-family: monospace;font-weight: bold;display: inline-block;line-height: 1.2em;}#sk-container-id-1 div.sk-label-container {text-align: center;}#sk-container-id-1 div.sk-container {/* jupyter's `normalize.less` sets `[hidden] { display: none; }` but bootstrap.min.css set `[hidden] { display: none !important; }` so we also need the `!important` here to be able to override the default hidden behavior on the sphinx rendered scikit-learn.org. See: https://github.com/scikit-learn/scikit-learn/issues/21755 */display: inline-block !important;position: relative;}#sk-container-id-1 div.sk-text-repr-fallback {display: none;}</style><div id=\"sk-container-id-1\" class=\"sk-top-container\"><div class=\"sk-text-repr-fallback\"><pre>LogisticRegression(max_iter=10000)</pre><b>In a Jupyter environment, please rerun this cell to show the HTML representation or trust the notebook. <br />On GitHub, the HTML representation is unable to render, please try loading this page with nbviewer.org.</b></div><div class=\"sk-container\" hidden><div class=\"sk-item\"><div class=\"sk-estimator sk-toggleable\"><input class=\"sk-toggleable__control sk-hidden--visually\" id=\"sk-estimator-id-1\" type=\"checkbox\" checked><label for=\"sk-estimator-id-1\" class=\"sk-toggleable__label sk-toggleable__label-arrow\">LogisticRegression</label><div class=\"sk-toggleable__content\"><pre>LogisticRegression(max_iter=10000)</pre></div></div></div></div></div>"
            ]
          },
          "metadata": {},
          "execution_count": 8
        }
      ]
    },
    {
      "cell_type": "code",
      "source": [
        "# Predecir las etiquetas para el conjunto de datos de prueba\n",
        "y_pred = model.predict(X_test)\n",
        "\n",
        "# Calcular métricas de evaluación\n",
        "accuracy = accuracy_score(y_test, y_pred)\n",
        "precision = precision_score(y_test, y_pred)\n",
        "recall = recall_score(y_test, y_pred)\n",
        "conf_matrix = confusion_matrix(y_test, y_pred)\n",
        "\n",
        "print(\"Accuracy:\", accuracy)\n",
        "print(\"Precision:\", precision)\n",
        "print(\"Recall:\", recall)\n",
        "print(\"Confusion Matrix:\\n\", conf_matrix)"
      ],
      "metadata": {
        "colab": {
          "base_uri": "https://localhost:8080/"
        },
        "id": "f1KaUSw_brHK",
        "outputId": "b44938de-106a-41c0-93d5-804670129e20"
      },
      "execution_count": null,
      "outputs": [
        {
          "output_type": "stream",
          "name": "stdout",
          "text": [
            "Accuracy: 0.956140350877193\n",
            "Precision: 0.975\n",
            "Recall: 0.9069767441860465\n",
            "Confusion Matrix:\n",
            " [[70  1]\n",
            " [ 4 39]]\n"
          ]
        }
      ]
    },
    {
      "cell_type": "markdown",
      "source": [
        "### **🏠 KNN | K vecinos más próximos 🏠**"
      ],
      "metadata": {
        "id": "CkDXqyJ5fud4"
      }
    },
    {
      "cell_type": "code",
      "source": [
        "from sklearn.preprocessing import StandardScaler\n",
        "from sklearn.neighbors import KNeighborsClassifier\n",
        "\n",
        "scaler = StandardScaler()\n",
        "X_train = scaler.fit_transform(X_train)\n",
        "X_test = scaler.transform(X_test)"
      ],
      "metadata": {
        "id": "i_yVHU4hfwad"
      },
      "execution_count": null,
      "outputs": []
    },
    {
      "cell_type": "code",
      "source": [
        "# Crear una instancia del modelo KNN\n",
        "knn = KNeighborsClassifier(n_neighbors=3)  # Con validación cruzada vimos que con un K = 3 tenemos buen accuracy, consideramos que es suficientemente bueno para no ir por Ks mayores\n",
        "\n",
        "# Entrenar el modelo\n",
        "knn.fit(X_train, y_train)"
      ],
      "metadata": {
        "colab": {
          "base_uri": "https://localhost:8080/",
          "height": 75
        },
        "id": "anMHp4kYf5kZ",
        "outputId": "6f24e40f-b1ed-4111-c3ad-f5dd66fac22f"
      },
      "execution_count": null,
      "outputs": [
        {
          "output_type": "execute_result",
          "data": {
            "text/plain": [
              "KNeighborsClassifier(n_neighbors=3)"
            ],
            "text/html": [
              "<style>#sk-container-id-4 {color: black;background-color: white;}#sk-container-id-4 pre{padding: 0;}#sk-container-id-4 div.sk-toggleable {background-color: white;}#sk-container-id-4 label.sk-toggleable__label {cursor: pointer;display: block;width: 100%;margin-bottom: 0;padding: 0.3em;box-sizing: border-box;text-align: center;}#sk-container-id-4 label.sk-toggleable__label-arrow:before {content: \"▸\";float: left;margin-right: 0.25em;color: #696969;}#sk-container-id-4 label.sk-toggleable__label-arrow:hover:before {color: black;}#sk-container-id-4 div.sk-estimator:hover label.sk-toggleable__label-arrow:before {color: black;}#sk-container-id-4 div.sk-toggleable__content {max-height: 0;max-width: 0;overflow: hidden;text-align: left;background-color: #f0f8ff;}#sk-container-id-4 div.sk-toggleable__content pre {margin: 0.2em;color: black;border-radius: 0.25em;background-color: #f0f8ff;}#sk-container-id-4 input.sk-toggleable__control:checked~div.sk-toggleable__content {max-height: 200px;max-width: 100%;overflow: auto;}#sk-container-id-4 input.sk-toggleable__control:checked~label.sk-toggleable__label-arrow:before {content: \"▾\";}#sk-container-id-4 div.sk-estimator input.sk-toggleable__control:checked~label.sk-toggleable__label {background-color: #d4ebff;}#sk-container-id-4 div.sk-label input.sk-toggleable__control:checked~label.sk-toggleable__label {background-color: #d4ebff;}#sk-container-id-4 input.sk-hidden--visually {border: 0;clip: rect(1px 1px 1px 1px);clip: rect(1px, 1px, 1px, 1px);height: 1px;margin: -1px;overflow: hidden;padding: 0;position: absolute;width: 1px;}#sk-container-id-4 div.sk-estimator {font-family: monospace;background-color: #f0f8ff;border: 1px dotted black;border-radius: 0.25em;box-sizing: border-box;margin-bottom: 0.5em;}#sk-container-id-4 div.sk-estimator:hover {background-color: #d4ebff;}#sk-container-id-4 div.sk-parallel-item::after {content: \"\";width: 100%;border-bottom: 1px solid gray;flex-grow: 1;}#sk-container-id-4 div.sk-label:hover label.sk-toggleable__label {background-color: #d4ebff;}#sk-container-id-4 div.sk-serial::before {content: \"\";position: absolute;border-left: 1px solid gray;box-sizing: border-box;top: 0;bottom: 0;left: 50%;z-index: 0;}#sk-container-id-4 div.sk-serial {display: flex;flex-direction: column;align-items: center;background-color: white;padding-right: 0.2em;padding-left: 0.2em;position: relative;}#sk-container-id-4 div.sk-item {position: relative;z-index: 1;}#sk-container-id-4 div.sk-parallel {display: flex;align-items: stretch;justify-content: center;background-color: white;position: relative;}#sk-container-id-4 div.sk-item::before, #sk-container-id-4 div.sk-parallel-item::before {content: \"\";position: absolute;border-left: 1px solid gray;box-sizing: border-box;top: 0;bottom: 0;left: 50%;z-index: -1;}#sk-container-id-4 div.sk-parallel-item {display: flex;flex-direction: column;z-index: 1;position: relative;background-color: white;}#sk-container-id-4 div.sk-parallel-item:first-child::after {align-self: flex-end;width: 50%;}#sk-container-id-4 div.sk-parallel-item:last-child::after {align-self: flex-start;width: 50%;}#sk-container-id-4 div.sk-parallel-item:only-child::after {width: 0;}#sk-container-id-4 div.sk-dashed-wrapped {border: 1px dashed gray;margin: 0 0.4em 0.5em 0.4em;box-sizing: border-box;padding-bottom: 0.4em;background-color: white;}#sk-container-id-4 div.sk-label label {font-family: monospace;font-weight: bold;display: inline-block;line-height: 1.2em;}#sk-container-id-4 div.sk-label-container {text-align: center;}#sk-container-id-4 div.sk-container {/* jupyter's `normalize.less` sets `[hidden] { display: none; }` but bootstrap.min.css set `[hidden] { display: none !important; }` so we also need the `!important` here to be able to override the default hidden behavior on the sphinx rendered scikit-learn.org. See: https://github.com/scikit-learn/scikit-learn/issues/21755 */display: inline-block !important;position: relative;}#sk-container-id-4 div.sk-text-repr-fallback {display: none;}</style><div id=\"sk-container-id-4\" class=\"sk-top-container\"><div class=\"sk-text-repr-fallback\"><pre>KNeighborsClassifier(n_neighbors=3)</pre><b>In a Jupyter environment, please rerun this cell to show the HTML representation or trust the notebook. <br />On GitHub, the HTML representation is unable to render, please try loading this page with nbviewer.org.</b></div><div class=\"sk-container\" hidden><div class=\"sk-item\"><div class=\"sk-estimator sk-toggleable\"><input class=\"sk-toggleable__control sk-hidden--visually\" id=\"sk-estimator-id-4\" type=\"checkbox\" checked><label for=\"sk-estimator-id-4\" class=\"sk-toggleable__label sk-toggleable__label-arrow\">KNeighborsClassifier</label><div class=\"sk-toggleable__content\"><pre>KNeighborsClassifier(n_neighbors=3)</pre></div></div></div></div></div>"
            ]
          },
          "metadata": {},
          "execution_count": 16
        }
      ]
    },
    {
      "cell_type": "code",
      "source": [
        "# Predecir las etiquetas para el conjunto de datos de prueba\n",
        "y_pred = knn.predict(X_test)\n",
        "\n",
        "# Calcular métricas de evaluación\n",
        "accuracy = accuracy_score(y_test, y_pred)\n",
        "precision = precision_score(y_test, y_pred)\n",
        "recall = recall_score(y_test, y_pred)\n",
        "conf_matrix = confusion_matrix(y_test, y_pred)\n",
        "\n",
        "print(\"Accuracy:\", accuracy)\n",
        "print(\"Precision:\", precision)\n",
        "print(\"Recall:\", recall)\n",
        "print(\"Confusion Matrix:\\n\", conf_matrix)"
      ],
      "metadata": {
        "colab": {
          "base_uri": "https://localhost:8080/"
        },
        "id": "YFCSNP5AgC01",
        "outputId": "cef96e7b-dcd0-4acf-db76-192f22338aeb"
      },
      "execution_count": null,
      "outputs": [
        {
          "output_type": "stream",
          "name": "stdout",
          "text": [
            "Accuracy: 0.9473684210526315\n",
            "Precision: 0.9302325581395349\n",
            "Recall: 0.9302325581395349\n",
            "Confusion Matrix:\n",
            " [[68  3]\n",
            " [ 3 40]]\n"
          ]
        }
      ]
    },
    {
      "cell_type": "markdown",
      "source": [
        "### **Arboles de Decision** 🌳"
      ],
      "metadata": {
        "id": "PIUTjYepgE_C"
      }
    },
    {
      "cell_type": "code",
      "source": [
        "from sklearn.tree import DecisionTreeClassifier\n",
        "\n",
        "# Crear una instancia del modelo de Árbol de Decisión\n",
        "tree = DecisionTreeClassifier(random_state=42)\n",
        "\n",
        "# Entrenar el modelo\n",
        "tree.fit(X_train, y_train)"
      ],
      "metadata": {
        "colab": {
          "base_uri": "https://localhost:8080/",
          "height": 75
        },
        "id": "TMnBzDyvgHMa",
        "outputId": "02e6c78f-47a2-42b0-93c4-611bdaa25125"
      },
      "execution_count": null,
      "outputs": [
        {
          "output_type": "execute_result",
          "data": {
            "text/plain": [
              "DecisionTreeClassifier(random_state=42)"
            ],
            "text/html": [
              "<style>#sk-container-id-3 {color: black;background-color: white;}#sk-container-id-3 pre{padding: 0;}#sk-container-id-3 div.sk-toggleable {background-color: white;}#sk-container-id-3 label.sk-toggleable__label {cursor: pointer;display: block;width: 100%;margin-bottom: 0;padding: 0.3em;box-sizing: border-box;text-align: center;}#sk-container-id-3 label.sk-toggleable__label-arrow:before {content: \"▸\";float: left;margin-right: 0.25em;color: #696969;}#sk-container-id-3 label.sk-toggleable__label-arrow:hover:before {color: black;}#sk-container-id-3 div.sk-estimator:hover label.sk-toggleable__label-arrow:before {color: black;}#sk-container-id-3 div.sk-toggleable__content {max-height: 0;max-width: 0;overflow: hidden;text-align: left;background-color: #f0f8ff;}#sk-container-id-3 div.sk-toggleable__content pre {margin: 0.2em;color: black;border-radius: 0.25em;background-color: #f0f8ff;}#sk-container-id-3 input.sk-toggleable__control:checked~div.sk-toggleable__content {max-height: 200px;max-width: 100%;overflow: auto;}#sk-container-id-3 input.sk-toggleable__control:checked~label.sk-toggleable__label-arrow:before {content: \"▾\";}#sk-container-id-3 div.sk-estimator input.sk-toggleable__control:checked~label.sk-toggleable__label {background-color: #d4ebff;}#sk-container-id-3 div.sk-label input.sk-toggleable__control:checked~label.sk-toggleable__label {background-color: #d4ebff;}#sk-container-id-3 input.sk-hidden--visually {border: 0;clip: rect(1px 1px 1px 1px);clip: rect(1px, 1px, 1px, 1px);height: 1px;margin: -1px;overflow: hidden;padding: 0;position: absolute;width: 1px;}#sk-container-id-3 div.sk-estimator {font-family: monospace;background-color: #f0f8ff;border: 1px dotted black;border-radius: 0.25em;box-sizing: border-box;margin-bottom: 0.5em;}#sk-container-id-3 div.sk-estimator:hover {background-color: #d4ebff;}#sk-container-id-3 div.sk-parallel-item::after {content: \"\";width: 100%;border-bottom: 1px solid gray;flex-grow: 1;}#sk-container-id-3 div.sk-label:hover label.sk-toggleable__label {background-color: #d4ebff;}#sk-container-id-3 div.sk-serial::before {content: \"\";position: absolute;border-left: 1px solid gray;box-sizing: border-box;top: 0;bottom: 0;left: 50%;z-index: 0;}#sk-container-id-3 div.sk-serial {display: flex;flex-direction: column;align-items: center;background-color: white;padding-right: 0.2em;padding-left: 0.2em;position: relative;}#sk-container-id-3 div.sk-item {position: relative;z-index: 1;}#sk-container-id-3 div.sk-parallel {display: flex;align-items: stretch;justify-content: center;background-color: white;position: relative;}#sk-container-id-3 div.sk-item::before, #sk-container-id-3 div.sk-parallel-item::before {content: \"\";position: absolute;border-left: 1px solid gray;box-sizing: border-box;top: 0;bottom: 0;left: 50%;z-index: -1;}#sk-container-id-3 div.sk-parallel-item {display: flex;flex-direction: column;z-index: 1;position: relative;background-color: white;}#sk-container-id-3 div.sk-parallel-item:first-child::after {align-self: flex-end;width: 50%;}#sk-container-id-3 div.sk-parallel-item:last-child::after {align-self: flex-start;width: 50%;}#sk-container-id-3 div.sk-parallel-item:only-child::after {width: 0;}#sk-container-id-3 div.sk-dashed-wrapped {border: 1px dashed gray;margin: 0 0.4em 0.5em 0.4em;box-sizing: border-box;padding-bottom: 0.4em;background-color: white;}#sk-container-id-3 div.sk-label label {font-family: monospace;font-weight: bold;display: inline-block;line-height: 1.2em;}#sk-container-id-3 div.sk-label-container {text-align: center;}#sk-container-id-3 div.sk-container {/* jupyter's `normalize.less` sets `[hidden] { display: none; }` but bootstrap.min.css set `[hidden] { display: none !important; }` so we also need the `!important` here to be able to override the default hidden behavior on the sphinx rendered scikit-learn.org. See: https://github.com/scikit-learn/scikit-learn/issues/21755 */display: inline-block !important;position: relative;}#sk-container-id-3 div.sk-text-repr-fallback {display: none;}</style><div id=\"sk-container-id-3\" class=\"sk-top-container\"><div class=\"sk-text-repr-fallback\"><pre>DecisionTreeClassifier(random_state=42)</pre><b>In a Jupyter environment, please rerun this cell to show the HTML representation or trust the notebook. <br />On GitHub, the HTML representation is unable to render, please try loading this page with nbviewer.org.</b></div><div class=\"sk-container\" hidden><div class=\"sk-item\"><div class=\"sk-estimator sk-toggleable\"><input class=\"sk-toggleable__control sk-hidden--visually\" id=\"sk-estimator-id-3\" type=\"checkbox\" checked><label for=\"sk-estimator-id-3\" class=\"sk-toggleable__label sk-toggleable__label-arrow\">DecisionTreeClassifier</label><div class=\"sk-toggleable__content\"><pre>DecisionTreeClassifier(random_state=42)</pre></div></div></div></div></div>"
            ]
          },
          "metadata": {},
          "execution_count": 14
        }
      ]
    },
    {
      "cell_type": "code",
      "source": [
        "y_pred = tree.predict(X_test)\n",
        "\n",
        "accuracy = accuracy_score(y_test, y_pred)\n",
        "precision = precision_score(y_test, y_pred)\n",
        "recall = recall_score(y_test, y_pred)\n",
        "conf_matrix = confusion_matrix(y_test, y_pred)\n",
        "\n",
        "print(\"Accuracy:\", accuracy)\n",
        "print(\"Precision:\", precision)\n",
        "print(\"Recall:\", recall)\n",
        "print(\"Confusion Matrix:\\n\", conf_matrix)"
      ],
      "metadata": {
        "id": "KAT8pElLrgFd",
        "outputId": "67df5f83-c57c-411f-cd16-e7a980ad778a",
        "colab": {
          "base_uri": "https://localhost:8080/"
        }
      },
      "execution_count": null,
      "outputs": [
        {
          "output_type": "stream",
          "name": "stdout",
          "text": [
            "Accuracy: 0.9473684210526315\n",
            "Precision: 0.9302325581395349\n",
            "Recall: 0.9302325581395349\n",
            "Confusion Matrix:\n",
            " [[68  3]\n",
            " [ 3 40]]\n"
          ]
        }
      ]
    }
  ]
}